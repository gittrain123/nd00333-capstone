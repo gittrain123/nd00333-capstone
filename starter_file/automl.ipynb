{
  "cells": [
    {
      "cell_type": "markdown",
      "source": [
        "# Automated ML\n",
        "\n",
        "TODO: Import Dependencies. In the cell below, import all the dependencies that you will need to complete the project."
      ],
      "metadata": {}
    },
    {
      "cell_type": "code",
      "source": [
        "import logging\n",
        "import os\n",
        "import csv\n",
        "\n",
        "from matplotlib import pyplot as plt\n",
        "import numpy as np\n",
        "import pandas as pd\n",
        "from sklearn import datasets\n",
        "import pkg_resources\n",
        "\n",
        "import azureml.core\n",
        "from azureml.core.experiment import Experiment\n",
        "from azureml.core.workspace import Workspace\n",
        "from azureml.train.automl import AutoMLConfig\n",
        "from azureml.core.dataset import Dataset\n",
        "from azureml.widgets import RunDetails\n",
        "from azureml.core import Model\n",
        "\n",
        "from azureml.core.environment import Environment\n",
        "from azureml.core.conda_dependencies import CondaDependencies\n",
        "from azureml.core.webservice import AciWebservice\n",
        "import uuid\n",
        "from azureml.core.model import InferenceConfig\n",
        "\n",
        "from azureml.core.compute import AmlCompute\n",
        "from azureml.core.compute import ComputeTarget\n",
        "from azureml.core.compute_target import ComputeTargetException\n",
        "\n",
        "import joblib\n",
        "\n",
        "import requests\n",
        "import json\n",
        "\n",
        "# Check core SDK version number\n",
        "print(\"SDK version:\", azureml.core.VERSION)"
      ],
      "outputs": [
        {
          "output_type": "stream",
          "name": "stdout",
          "text": "SDK version: 1.42.0\n"
        }
      ],
      "execution_count": 2,
      "metadata": {
        "gather": {
          "logged": 1660291441337
        },
        "jupyter": {
          "outputs_hidden": false,
          "source_hidden": false
        },
        "nteract": {
          "transient": {
            "deleting": false
          }
        }
      }
    },
    {
      "cell_type": "markdown",
      "source": [
        "## Dataset\n",
        "\n",
        "### Overview\n",
        "TODO: In this markdown cell, give an overview of the dataset you are using. Also mention the task you will be performing.\n",
        "\n",
        "\n",
        "TODO: Get data. In the cell below, write code to access the data you will be using in this project. Remember that the dataset needs to be external."
      ],
      "metadata": {}
    },
    {
      "cell_type": "code",
      "source": [
        "ws = Workspace.from_config()\n",
        "\n",
        "# choose a name for experiment\n",
        "experiment_name = 'automl_run'\n",
        "\n",
        "experiment=Experiment(ws, experiment_name)\n",
        "\n",
        "key = \"forestfire\"\n",
        "dataset = ws.datasets[key] \n",
        "\n",
        "df = dataset.to_pandas_dataframe()\n",
        "df.describe()"
      ],
      "outputs": [
        {
          "output_type": "execute_result",
          "execution_count": 3,
          "data": {
            "text/plain": "              day       month    year  Temperature          RH          Ws  \\\ncount  243.000000  243.000000   243.0   243.000000  243.000000  243.000000   \nmean    15.761317    7.502058  2012.0    32.152263   62.041152   15.493827   \nstd      8.842552    1.114793     0.0     3.628039   14.828160    2.811385   \nmin      1.000000    6.000000  2012.0    22.000000   21.000000    6.000000   \n25%      8.000000    7.000000  2012.0    30.000000   52.500000   14.000000   \n50%     16.000000    8.000000  2012.0    32.000000   63.000000   15.000000   \n75%     23.000000    8.000000  2012.0    35.000000   73.500000   17.000000   \nmax     31.000000    9.000000  2012.0    42.000000   90.000000   29.000000   \n\n             Rain        FFMC         DMC          DC         ISI         BUI  \\\ncount  243.000000  243.000000  243.000000  243.000000  243.000000  243.000000   \nmean     0.762963   77.842387   14.680658   49.430864    4.742387   16.690535   \nstd      2.003207   14.349641   12.393040   47.665606    4.154234   14.228421   \nmin      0.000000   28.600000    0.700000    6.900000    0.000000    1.100000   \n25%      0.000000   71.850000    5.800000   12.350000    1.400000    6.000000   \n50%      0.000000   83.300000   11.300000   33.100000    3.500000   12.400000   \n75%      0.500000   88.300000   20.800000   69.100000    7.250000   22.650000   \nmax     16.800000   96.000000   65.900000  220.400000   19.000000   68.000000   \n\n              FWI  Classes_mapped  \ncount  243.000000      243.000000  \nmean     7.035391        0.563786  \nstd      7.440568        0.496938  \nmin      0.000000        0.000000  \n25%      0.700000        0.000000  \n50%      4.200000        1.000000  \n75%     11.450000        1.000000  \nmax     31.100000        1.000000  ",
            "text/html": "<div>\n<style scoped>\n    .dataframe tbody tr th:only-of-type {\n        vertical-align: middle;\n    }\n\n    .dataframe tbody tr th {\n        vertical-align: top;\n    }\n\n    .dataframe thead th {\n        text-align: right;\n    }\n</style>\n<table border=\"1\" class=\"dataframe\">\n  <thead>\n    <tr style=\"text-align: right;\">\n      <th></th>\n      <th>day</th>\n      <th>month</th>\n      <th>year</th>\n      <th>Temperature</th>\n      <th>RH</th>\n      <th>Ws</th>\n      <th>Rain</th>\n      <th>FFMC</th>\n      <th>DMC</th>\n      <th>DC</th>\n      <th>ISI</th>\n      <th>BUI</th>\n      <th>FWI</th>\n      <th>Classes_mapped</th>\n    </tr>\n  </thead>\n  <tbody>\n    <tr>\n      <th>count</th>\n      <td>243.000000</td>\n      <td>243.000000</td>\n      <td>243.0</td>\n      <td>243.000000</td>\n      <td>243.000000</td>\n      <td>243.000000</td>\n      <td>243.000000</td>\n      <td>243.000000</td>\n      <td>243.000000</td>\n      <td>243.000000</td>\n      <td>243.000000</td>\n      <td>243.000000</td>\n      <td>243.000000</td>\n      <td>243.000000</td>\n    </tr>\n    <tr>\n      <th>mean</th>\n      <td>15.761317</td>\n      <td>7.502058</td>\n      <td>2012.0</td>\n      <td>32.152263</td>\n      <td>62.041152</td>\n      <td>15.493827</td>\n      <td>0.762963</td>\n      <td>77.842387</td>\n      <td>14.680658</td>\n      <td>49.430864</td>\n      <td>4.742387</td>\n      <td>16.690535</td>\n      <td>7.035391</td>\n      <td>0.563786</td>\n    </tr>\n    <tr>\n      <th>std</th>\n      <td>8.842552</td>\n      <td>1.114793</td>\n      <td>0.0</td>\n      <td>3.628039</td>\n      <td>14.828160</td>\n      <td>2.811385</td>\n      <td>2.003207</td>\n      <td>14.349641</td>\n      <td>12.393040</td>\n      <td>47.665606</td>\n      <td>4.154234</td>\n      <td>14.228421</td>\n      <td>7.440568</td>\n      <td>0.496938</td>\n    </tr>\n    <tr>\n      <th>min</th>\n      <td>1.000000</td>\n      <td>6.000000</td>\n      <td>2012.0</td>\n      <td>22.000000</td>\n      <td>21.000000</td>\n      <td>6.000000</td>\n      <td>0.000000</td>\n      <td>28.600000</td>\n      <td>0.700000</td>\n      <td>6.900000</td>\n      <td>0.000000</td>\n      <td>1.100000</td>\n      <td>0.000000</td>\n      <td>0.000000</td>\n    </tr>\n    <tr>\n      <th>25%</th>\n      <td>8.000000</td>\n      <td>7.000000</td>\n      <td>2012.0</td>\n      <td>30.000000</td>\n      <td>52.500000</td>\n      <td>14.000000</td>\n      <td>0.000000</td>\n      <td>71.850000</td>\n      <td>5.800000</td>\n      <td>12.350000</td>\n      <td>1.400000</td>\n      <td>6.000000</td>\n      <td>0.700000</td>\n      <td>0.000000</td>\n    </tr>\n    <tr>\n      <th>50%</th>\n      <td>16.000000</td>\n      <td>8.000000</td>\n      <td>2012.0</td>\n      <td>32.000000</td>\n      <td>63.000000</td>\n      <td>15.000000</td>\n      <td>0.000000</td>\n      <td>83.300000</td>\n      <td>11.300000</td>\n      <td>33.100000</td>\n      <td>3.500000</td>\n      <td>12.400000</td>\n      <td>4.200000</td>\n      <td>1.000000</td>\n    </tr>\n    <tr>\n      <th>75%</th>\n      <td>23.000000</td>\n      <td>8.000000</td>\n      <td>2012.0</td>\n      <td>35.000000</td>\n      <td>73.500000</td>\n      <td>17.000000</td>\n      <td>0.500000</td>\n      <td>88.300000</td>\n      <td>20.800000</td>\n      <td>69.100000</td>\n      <td>7.250000</td>\n      <td>22.650000</td>\n      <td>11.450000</td>\n      <td>1.000000</td>\n    </tr>\n    <tr>\n      <th>max</th>\n      <td>31.000000</td>\n      <td>9.000000</td>\n      <td>2012.0</td>\n      <td>42.000000</td>\n      <td>90.000000</td>\n      <td>29.000000</td>\n      <td>16.800000</td>\n      <td>96.000000</td>\n      <td>65.900000</td>\n      <td>220.400000</td>\n      <td>19.000000</td>\n      <td>68.000000</td>\n      <td>31.100000</td>\n      <td>1.000000</td>\n    </tr>\n  </tbody>\n</table>\n</div>"
          },
          "metadata": {}
        }
      ],
      "execution_count": 3,
      "metadata": {
        "gather": {
          "logged": 1660291445789
        },
        "jupyter": {
          "outputs_hidden": false,
          "source_hidden": false
        },
        "nteract": {
          "transient": {
            "deleting": false
          }
        }
      }
    },
    {
      "cell_type": "markdown",
      "source": [
        "## Create or Attach an AmlCompute cluster"
      ],
      "metadata": {}
    },
    {
      "cell_type": "code",
      "source": [
        "# NOTE: update the cluster name to match the existing cluster\n",
        "# Choose a name for your CPU cluster\n",
        "amlcompute_cluster_name = \"automl-cluster\"\n",
        "\n",
        "# Verify that cluster does not exist already\n",
        "try:\n",
        "    compute_target = ComputeTarget(workspace=ws, name=amlcompute_cluster_name)\n",
        "    print('Found existing cluster, use it.')\n",
        "except ComputeTargetException:\n",
        "    compute_config = AmlCompute.provisioning_configuration(vm_size='STANDARD_D2_V2',# for GPU, use \"STANDARD_NC6\"\n",
        "                                                           #vm_priority = 'lowpriority', # optional\n",
        "                                                           max_nodes=4)\n",
        "    compute_target = ComputeTarget.create(ws, amlcompute_cluster_name, compute_config)\n",
        "\n",
        "compute_target.wait_for_completion(show_output=True, min_node_count = 1, timeout_in_minutes = 10)\n",
        "# For a more detailed view of current AmlCompute status, use get_status()."
      ],
      "outputs": [
        {
          "output_type": "stream",
          "name": "stdout",
          "text": "Found existing cluster, use it.\nSucceeded.....................................................................................................................\nAmlCompute wait for completion finished\n\nWait timeout has been reached\nCurrent provisioning state of AmlCompute is \"Succeeded\" and current node count is \"0\"\n"
        }
      ],
      "execution_count": 4,
      "metadata": {
        "gather": {
          "logged": 1660292048496
        }
      }
    },
    {
      "cell_type": "markdown",
      "source": [
        "## AutoML Configuration\n",
        "\n",
        "TODO: Explain why you chose the automl settings and cofiguration you used below."
      ],
      "metadata": {}
    },
    {
      "cell_type": "code",
      "source": [
        "df.head(5)"
      ],
      "outputs": [
        {
          "output_type": "execute_result",
          "execution_count": 5,
          "data": {
            "text/plain": "   day  month  year  Temperature  RH  Ws  Rain  FFMC  DMC    DC  ISI  BUI  \\\n0    1      6  2012           29  57  18   0.0  65.7  3.4   7.6  1.3  3.4   \n1    2      6  2012           29  61  13   1.3  64.4  4.1   7.6  1.0  3.9   \n2    3      6  2012           26  82  22  13.1  47.1  2.5   7.1  0.3  2.7   \n3    4      6  2012           25  89  13   2.5  28.6  1.3   6.9  0.0  1.7   \n4    5      6  2012           27  77  16   0.0  64.8  3.0  14.2  1.2  3.9   \n\n   FWI  Classes_mapped  \n0  0.5               0  \n1  0.4               0  \n2  0.1               0  \n3  0.0               0  \n4  0.5               0  ",
            "text/html": "<div>\n<style scoped>\n    .dataframe tbody tr th:only-of-type {\n        vertical-align: middle;\n    }\n\n    .dataframe tbody tr th {\n        vertical-align: top;\n    }\n\n    .dataframe thead th {\n        text-align: right;\n    }\n</style>\n<table border=\"1\" class=\"dataframe\">\n  <thead>\n    <tr style=\"text-align: right;\">\n      <th></th>\n      <th>day</th>\n      <th>month</th>\n      <th>year</th>\n      <th>Temperature</th>\n      <th>RH</th>\n      <th>Ws</th>\n      <th>Rain</th>\n      <th>FFMC</th>\n      <th>DMC</th>\n      <th>DC</th>\n      <th>ISI</th>\n      <th>BUI</th>\n      <th>FWI</th>\n      <th>Classes_mapped</th>\n    </tr>\n  </thead>\n  <tbody>\n    <tr>\n      <th>0</th>\n      <td>1</td>\n      <td>6</td>\n      <td>2012</td>\n      <td>29</td>\n      <td>57</td>\n      <td>18</td>\n      <td>0.0</td>\n      <td>65.7</td>\n      <td>3.4</td>\n      <td>7.6</td>\n      <td>1.3</td>\n      <td>3.4</td>\n      <td>0.5</td>\n      <td>0</td>\n    </tr>\n    <tr>\n      <th>1</th>\n      <td>2</td>\n      <td>6</td>\n      <td>2012</td>\n      <td>29</td>\n      <td>61</td>\n      <td>13</td>\n      <td>1.3</td>\n      <td>64.4</td>\n      <td>4.1</td>\n      <td>7.6</td>\n      <td>1.0</td>\n      <td>3.9</td>\n      <td>0.4</td>\n      <td>0</td>\n    </tr>\n    <tr>\n      <th>2</th>\n      <td>3</td>\n      <td>6</td>\n      <td>2012</td>\n      <td>26</td>\n      <td>82</td>\n      <td>22</td>\n      <td>13.1</td>\n      <td>47.1</td>\n      <td>2.5</td>\n      <td>7.1</td>\n      <td>0.3</td>\n      <td>2.7</td>\n      <td>0.1</td>\n      <td>0</td>\n    </tr>\n    <tr>\n      <th>3</th>\n      <td>4</td>\n      <td>6</td>\n      <td>2012</td>\n      <td>25</td>\n      <td>89</td>\n      <td>13</td>\n      <td>2.5</td>\n      <td>28.6</td>\n      <td>1.3</td>\n      <td>6.9</td>\n      <td>0.0</td>\n      <td>1.7</td>\n      <td>0.0</td>\n      <td>0</td>\n    </tr>\n    <tr>\n      <th>4</th>\n      <td>5</td>\n      <td>6</td>\n      <td>2012</td>\n      <td>27</td>\n      <td>77</td>\n      <td>16</td>\n      <td>0.0</td>\n      <td>64.8</td>\n      <td>3.0</td>\n      <td>14.2</td>\n      <td>1.2</td>\n      <td>3.9</td>\n      <td>0.5</td>\n      <td>0</td>\n    </tr>\n  </tbody>\n</table>\n</div>"
          },
          "metadata": {}
        }
      ],
      "execution_count": 5,
      "metadata": {
        "gather": {
          "logged": 1660292049117
        },
        "jupyter": {
          "outputs_hidden": false,
          "source_hidden": false
        },
        "nteract": {
          "transient": {
            "deleting": false
          }
        }
      }
    },
    {
      "cell_type": "code",
      "source": [
        "y = df[\"Classes_mapped\"]\n",
        "X = df.drop([\"Classes_mapped\"], axis =1)"
      ],
      "outputs": [],
      "execution_count": 6,
      "metadata": {
        "gather": {
          "logged": 1660292049402
        }
      }
    },
    {
      "cell_type": "code",
      "source": [
        "# TODO: Put your automl settings here\n",
        "\n",
        "automl_settings = {\n",
        "    \"experiment_timeout_minutes\": 30,\n",
        "    \"max_concurrent_iterations\": 5,\n",
        "    \"primary_metric\" : \"accuracy\"\n",
        "}\n",
        "automl_config = AutoMLConfig(compute_target=compute_target,\n",
        "                             task = \"classification\",\n",
        "                             training_data=dataset,\n",
        "                             label_column_name=\"Classes_mapped\",\n",
        "                             featurization=\"auto\",\n",
        "                             **automl_settings\n",
        "                            )\n"
      ],
      "outputs": [],
      "execution_count": 7,
      "metadata": {
        "gather": {
          "logged": 1660292049606
        },
        "jupyter": {
          "outputs_hidden": false,
          "source_hidden": false
        },
        "nteract": {
          "transient": {
            "deleting": false
          }
        }
      }
    },
    {
      "cell_type": "code",
      "source": [
        "# TODO: Submit your experiment\n",
        "run = experiment.submit(automl_config)\n",
        "run.wait_for_completion(show_output=True)"
      ],
      "outputs": [
        {
          "output_type": "stream",
          "name": "stdout",
          "text": "Submitting remote run.\n"
        },
        {
          "output_type": "display_data",
          "data": {
            "text/plain": "<IPython.core.display.HTML object>",
            "text/html": "<table style=\"width:100%\"><tr><th>Experiment</th><th>Id</th><th>Type</th><th>Status</th><th>Details Page</th><th>Docs Page</th></tr><tr><td>automl_run</td><td>AutoML_459e811c-00f4-4099-a31f-a186a9f4de26</td><td>automl</td><td>NotStarted</td><td><a href=\"https://ml.azure.com/runs/AutoML_459e811c-00f4-4099-a31f-a186a9f4de26?wsid=/subscriptions/f5091c60-1c3c-430f-8d81-d802f6bf2414/resourcegroups/aml-quickstarts-204069/workspaces/quick-starts-ws-204069&amp;tid=660b3398-b80e-49d2-bc5b-ac1dc93b5254\" target=\"_blank\" rel=\"noopener\">Link to Azure Machine Learning studio</a></td><td><a href=\"https://docs.microsoft.com/en-us/python/api/overview/azure/ml/intro?view=azure-ml-py\" target=\"_blank\" rel=\"noopener\">Link to Documentation</a></td></tr></table>"
          },
          "metadata": {}
        },
        {
          "output_type": "display_data",
          "data": {
            "text/plain": "<IPython.core.display.HTML object>",
            "text/html": "<table style=\"width:100%\"><tr><th>Experiment</th><th>Id</th><th>Type</th><th>Status</th><th>Details Page</th><th>Docs Page</th></tr><tr><td>automl_run</td><td>AutoML_459e811c-00f4-4099-a31f-a186a9f4de26</td><td>automl</td><td>NotStarted</td><td><a href=\"https://ml.azure.com/runs/AutoML_459e811c-00f4-4099-a31f-a186a9f4de26?wsid=/subscriptions/f5091c60-1c3c-430f-8d81-d802f6bf2414/resourcegroups/aml-quickstarts-204069/workspaces/quick-starts-ws-204069&amp;tid=660b3398-b80e-49d2-bc5b-ac1dc93b5254\" target=\"_blank\" rel=\"noopener\">Link to Azure Machine Learning studio</a></td><td><a href=\"https://docs.microsoft.com/en-us/python/api/overview/azure/ml/intro?view=azure-ml-py\" target=\"_blank\" rel=\"noopener\">Link to Documentation</a></td></tr></table>"
          },
          "metadata": {}
        },
        {
          "output_type": "stream",
          "name": "stdout",
          "text": "\nCurrent status: FeaturesGeneration. Generating features for the dataset.\nCurrent status: DatasetCrossValidationSplit. Generating individually featurized CV splits.\nCurrent status: ModelSelection. Beginning model selection.\n\n********************************************************************************************\nDATA GUARDRAILS: \n\nTYPE:         Cross validation\nSTATUS:       DONE\nDESCRIPTION:  Each iteration of the trained model was validated through cross-validation.\n              \nDETAILS:      \n+------------------------------+\n|Number of folds               |\n+==============================+\n|10                            |\n+------------------------------+\n\n********************************************************************************************\n\nTYPE:         Class balancing detection\nSTATUS:       PASSED\nDESCRIPTION:  Your inputs were analyzed, and all classes are balanced in your training data.\n              Learn more about imbalanced data: https://aka.ms/AutomatedMLImbalancedData\n\n********************************************************************************************\n\nTYPE:         Missing feature values imputation\nSTATUS:       PASSED\nDESCRIPTION:  No feature missing values were detected in the training data.\n              Learn more about missing value imputation: https://aka.ms/AutomatedMLFeaturization\n\n********************************************************************************************\n\nTYPE:         High cardinality feature detection\nSTATUS:       PASSED\nDESCRIPTION:  Your inputs were analyzed, and no high cardinality features were detected.\n              Learn more about high cardinality feature handling: https://aka.ms/AutomatedMLFeaturization\n\n********************************************************************************************\n\n********************************************************************************************\nITER: The iteration being evaluated.\nPIPELINE: A summary description of the pipeline being evaluated.\nDURATION: Time taken for the current iteration.\nMETRIC: The result of computing score on the fitted pipeline.\nBEST: The best observed score thus far.\n********************************************************************************************\n\n ITER   PIPELINE                                       DURATION            METRIC      BEST\n    0   MaxAbsScaler LightGBM                          0:00:10             0.9672    0.9672\n    1   MaxAbsScaler XGBoostClassifier                 0:00:13             0.9838    0.9838\n    2   MaxAbsScaler ExtremeRandomTrees                0:00:15             0.9347    0.9838\n    3   SparseNormalizer XGBoostClassifier             0:00:13             0.9592    0.9838\n    4   MaxAbsScaler LightGBM                          0:00:08             0.9838    0.9838\n    5   MaxAbsScaler LightGBM                          0:00:09             0.9757    0.9838\n    6   StandardScalerWrapper XGBoostClassifier        0:00:13             0.9797    0.9838\n    7   MaxAbsScaler LogisticRegression                0:00:13             0.9262    0.9838\n    8   StandardScalerWrapper ExtremeRandomTrees       0:00:09             0.8817    0.9838\n    9   StandardScalerWrapper XGBoostClassifier        0:00:08             0.9838    0.9838\n   10   SparseNormalizer LightGBM                      0:00:13             0.9675    0.9838\n   11   StandardScalerWrapper XGBoostClassifier        0:00:13             0.9757    0.9838\n   16   StandardScalerWrapper LogisticRegression       0:00:14             0.9673    0.9838\n   17   StandardScalerWrapper RandomForest             0:00:14             0.9755    0.9838\n   18   StandardScalerWrapper XGBoostClassifier        0:00:10             0.9797    0.9838\n   19   TruncatedSVDWrapper RandomForest               0:00:15             0.8853    0.9838\n   20   TruncatedSVDWrapper RandomForest               0:00:33             0.8937    0.9838\n   21   StandardScalerWrapper XGBoostClassifier        0:01:47             0.9797    0.9838\n   22   SparseNormalizer XGBoostClassifier             0:00:25             0.9673    0.9838\n   23   SparseNormalizer XGBoostClassifier             0:00:28             0.9672    0.9838\n   12   MaxAbsScaler LogisticRegression                0:00:13             0.9715    0.9838\n   24   StandardScalerWrapper LogisticRegression       0:00:29             0.9632    0.9838\n   13   MaxAbsScaler SGD                               0:00:12             0.9222    0.9838\n   14   StandardScalerWrapper XGBoostClassifier        0:00:08             0.9757    0.9838\n   25   StandardScalerWrapper RandomForest             0:00:23             0.9837    0.9838\n   26   MaxAbsScaler RandomForest                      0:00:27             0.9632    0.9838\n   15   SparseNormalizer RandomForest                  0:00:15             0.9590    0.9838\n   27   StandardScalerWrapper XGBoostClassifier        0:00:28             0.9755    0.9838\n   29   MaxAbsScaler LightGBM                          0:00:27             0.9798    0.9838\n   28   StandardScalerWrapper RandomForest             0:00:29             0.9715    0.9838\n   30   SparseNormalizer XGBoostClassifier             0:00:28             0.9632    0.9838\n   31   MaxAbsScaler RandomForest                      0:00:29             0.9797    0.9838\n   32   MaxAbsScaler LightGBM                          0:00:28             0.9757    0.9838\n   33   StandardScalerWrapper RandomForest             0:00:26             0.9672    0.9838\n   34                                                  0:00:06                nan    0.9838\n   35                                                  0:00:06                nan    0.9838\n   36                                                  0:00:03                nan    0.9838\n   37                                                  0:00:00                nan    0.9838\n   38    VotingEnsemble                                0:00:48             0.9878    0.9878\n   39    StackEnsemble                                 0:00:51             0.9838    0.9878\n"
        },
        {
          "output_type": "execute_result",
          "execution_count": 8,
          "data": {
            "text/plain": "{'runId': 'AutoML_459e811c-00f4-4099-a31f-a186a9f4de26',\n 'target': 'automl-cluster',\n 'status': 'Completed',\n 'startTimeUtc': '2022-08-12T08:14:25.236334Z',\n 'endTimeUtc': '2022-08-12T08:37:12.612559Z',\n 'services': {},\n 'warnings': [{'source': 'JasmineService',\n   'message': 'No scores improved over last 10 iterations, so experiment stopped early. This early stopping behavior can be disabled by setting enable_early_stopping = False in AutoMLConfig for notebook/python SDK runs.'}],\n 'properties': {'num_iterations': '1000',\n  'training_type': 'TrainFull',\n  'acquisition_function': 'EI',\n  'primary_metric': 'accuracy',\n  'train_split': '0',\n  'acquisition_parameter': '0',\n  'num_cross_validation': None,\n  'target': 'automl-cluster',\n  'AMLSettingsJsonString': '{\"path\":null,\"name\":\"automl_run\",\"subscription_id\":\"f5091c60-1c3c-430f-8d81-d802f6bf2414\",\"resource_group\":\"aml-quickstarts-204069\",\"workspace_name\":\"quick-starts-ws-204069\",\"region\":\"southcentralus\",\"compute_target\":\"automl-cluster\",\"spark_service\":null,\"azure_service\":\"remote\",\"many_models\":false,\"pipeline_fetch_max_batch_size\":1,\"enable_batch_run\":true,\"enable_run_restructure\":false,\"start_auxiliary_runs_before_parent_complete\":false,\"enable_code_generation\":true,\"iterations\":1000,\"primary_metric\":\"accuracy\",\"task_type\":\"classification\",\"positive_label\":null,\"data_script\":null,\"test_size\":0.0,\"test_include_predictions_only\":false,\"validation_size\":0.0,\"n_cross_validations\":null,\"y_min\":null,\"y_max\":null,\"num_classes\":null,\"featurization\":\"auto\",\"_ignore_package_version_incompatibilities\":false,\"is_timeseries\":false,\"max_cores_per_iteration\":1,\"max_concurrent_iterations\":5,\"iteration_timeout_minutes\":null,\"mem_in_mb\":null,\"enforce_time_on_windows\":false,\"experiment_timeout_minutes\":30,\"experiment_exit_score\":null,\"partition_column_names\":null,\"whitelist_models\":null,\"blacklist_algos\":[\"TensorFlowLinearClassifier\",\"TensorFlowDNN\"],\"supported_models\":[\"AveragedPerceptronClassifier\",\"TensorFlowDNN\",\"SVM\",\"GradientBoosting\",\"BernoulliNaiveBayes\",\"DecisionTree\",\"ExtremeRandomTrees\",\"LightGBM\",\"XGBoostClassifier\",\"LogisticRegression\",\"LinearSVM\",\"MultinomialNaiveBayes\",\"KNN\",\"TabnetClassifier\",\"SGD\",\"RandomForest\",\"TensorFlowLinearClassifier\"],\"private_models\":[],\"auto_blacklist\":true,\"blacklist_samples_reached\":false,\"exclude_nan_labels\":true,\"verbosity\":20,\"_debug_log\":\"azureml_automl.log\",\"show_warnings\":false,\"model_explainability\":true,\"service_url\":null,\"sdk_url\":null,\"sdk_packages\":null,\"enable_onnx_compatible_models\":false,\"enable_split_onnx_featurizer_estimator_models\":false,\"vm_type\":\"STANDARD_D2_V2\",\"telemetry_verbosity\":20,\"send_telemetry\":true,\"enable_dnn\":false,\"scenario\":\"SDK-1.13.0\",\"environment_label\":null,\"save_mlflow\":false,\"enable_categorical_indicators\":false,\"force_text_dnn\":false,\"enable_feature_sweeping\":true,\"enable_early_stopping\":true,\"early_stopping_n_iters\":10,\"arguments\":null,\"dataset_id\":\"637179f7-a448-48cf-95e8-a3fcc5e86533\",\"hyperdrive_config\":null,\"validation_dataset_id\":null,\"run_source\":null,\"metrics\":null,\"enable_metric_confidence\":false,\"enable_ensembling\":true,\"enable_stack_ensembling\":true,\"ensemble_iterations\":15,\"enable_tf\":false,\"enable_subsampling\":null,\"subsample_seed\":null,\"enable_nimbusml\":false,\"enable_streaming\":false,\"force_streaming\":false,\"track_child_runs\":true,\"allowed_private_models\":[],\"label_column_name\":\"Classes_mapped\",\"weight_column_name\":null,\"cv_split_column_names\":null,\"enable_local_managed\":false,\"_local_managed_run_id\":null,\"cost_mode\":1,\"lag_length\":0,\"metric_operation\":\"maximize\",\"preprocess\":true}',\n  'DataPrepJsonString': '{\\\\\"training_data\\\\\": {\\\\\"datasetId\\\\\": \\\\\"637179f7-a448-48cf-95e8-a3fcc5e86533\\\\\"}, \\\\\"datasets\\\\\": 0}',\n  'EnableSubsampling': None,\n  'runTemplate': 'AutoML',\n  'azureml.runsource': 'automl',\n  'display_task_type': 'classification',\n  'dependencies_versions': '{\"azureml-widgets\": \"1.42.0\", \"azureml-training-tabular\": \"1.42.0\", \"azureml-train\": \"1.42.0\", \"azureml-train-restclients-hyperdrive\": \"1.42.0\", \"azureml-train-core\": \"1.42.0\", \"azureml-train-automl\": \"1.42.0\", \"azureml-train-automl-runtime\": \"1.42.0\", \"azureml-train-automl-client\": \"1.42.0\", \"azureml-tensorboard\": \"1.42.0\", \"azureml-telemetry\": \"1.42.0\", \"azureml-sdk\": \"1.42.0\", \"azureml-samples\": \"0+unknown\", \"azureml-responsibleai\": \"1.42.0\", \"azureml-pipeline\": \"1.42.0\", \"azureml-pipeline-steps\": \"1.42.0\", \"azureml-pipeline-core\": \"1.42.0\", \"azureml-opendatasets\": \"1.42.0\", \"azureml-mlflow\": \"1.42.0\", \"azureml-interpret\": \"1.42.0\", \"azureml-inference-server-http\": \"0.4.13\", \"azureml-explain-model\": \"1.42.0\", \"azureml-defaults\": \"1.42.0\", \"azureml-dataset-runtime\": \"1.42.0\", \"azureml-dataprep\": \"4.0.1\", \"azureml-dataprep-rslex\": \"2.6.1\", \"azureml-dataprep-native\": \"38.0.0\", \"azureml-datadrift\": \"1.42.0\", \"azureml-core\": \"1.42.0\", \"azureml-contrib-services\": \"1.42.0\", \"azureml-contrib-server\": \"1.42.0\", \"azureml-contrib-reinforcementlearning\": \"1.42.0\", \"azureml-contrib-pipeline-steps\": \"1.42.0\", \"azureml-contrib-notebook\": \"1.42.0\", \"azureml-contrib-fairness\": \"1.42.0\", \"azureml-contrib-dataset\": \"1.42.0\", \"azureml-contrib-automl-pipeline-steps\": \"1.42.0\", \"azureml-cli-common\": \"1.42.0\", \"azureml-automl-runtime\": \"1.42.0\", \"azureml-automl-dnn-nlp\": \"1.42.0\", \"azureml-automl-core\": \"1.42.0\", \"azureml-accel-models\": \"1.42.0\"}',\n  '_aml_system_scenario_identification': 'Remote.Parent',\n  'ClientType': 'SDK',\n  'environment_cpu_name': 'AzureML-AutoML',\n  'environment_cpu_label': 'prod',\n  'environment_gpu_name': 'AzureML-AutoML-GPU',\n  'environment_gpu_label': 'prod',\n  'root_attribution': 'automl',\n  'attribution': 'AutoML',\n  'Orchestrator': 'AutoML',\n  'CancelUri': 'https://southcentralus.api.azureml.ms/jasmine/v1.0/subscriptions/f5091c60-1c3c-430f-8d81-d802f6bf2414/resourceGroups/aml-quickstarts-204069/providers/Microsoft.MachineLearningServices/workspaces/quick-starts-ws-204069/experimentids/c523437e-51b8-40f6-91f7-4b7994c0a239/cancel/AutoML_459e811c-00f4-4099-a31f-a186a9f4de26',\n  'ClientSdkVersion': '1.43.0.post1',\n  'snapshotId': '00000000-0000-0000-0000-000000000000',\n  'SetupRunId': 'AutoML_459e811c-00f4-4099-a31f-a186a9f4de26_setup',\n  'SetupRunContainerId': 'dcid.AutoML_459e811c-00f4-4099-a31f-a186a9f4de26_setup',\n  'FeaturizationRunJsonPath': 'featurizer_container.json',\n  'FeaturizationRunId': 'AutoML_459e811c-00f4-4099-a31f-a186a9f4de26_featurize',\n  'ProblemInfoJsonString': '{\"dataset_num_categorical\": 0, \"is_sparse\": true, \"subsampling\": false, \"has_extra_col\": true, \"dataset_classes\": 2, \"dataset_features\": 15, \"dataset_samples\": 243, \"single_frequency_class_detected\": false}',\n  'ModelExplainRunId': 'AutoML_459e811c-00f4-4099-a31f-a186a9f4de26_ModelExplain'},\n 'inputDatasets': [{'dataset': {'id': '637179f7-a448-48cf-95e8-a3fcc5e86533'}, 'consumptionDetails': {'type': 'RunInput', 'inputName': 'training_data', 'mechanism': 'Direct'}}],\n 'outputDatasets': [],\n 'logFiles': {},\n 'submittedBy': 'ODL_User 204069'}"
          },
          "metadata": {}
        }
      ],
      "execution_count": 8,
      "metadata": {
        "gather": {
          "logged": 1660293452261
        },
        "jupyter": {
          "outputs_hidden": false,
          "source_hidden": false
        },
        "nteract": {
          "transient": {
            "deleting": false
          }
        }
      }
    },
    {
      "cell_type": "markdown",
      "source": [
        "## Run Details\n",
        "\n",
        "OPTIONAL: Write about the different models trained and their performance. Why do you think some models did better than others?\n",
        "\n",
        "TODO: In the cell below, use the `RunDetails` widget to show the different experiments."
      ],
      "metadata": {}
    },
    {
      "cell_type": "code",
      "source": [
        "RunDetails(run).show()"
      ],
      "outputs": [
        {
          "output_type": "display_data",
          "data": {
            "text/plain": "_AutoMLWidget(widget_settings={'childWidgetDisplay': 'popup', 'send_telemetry': False, 'log_level': 'INFO', 's…",
            "application/vnd.jupyter.widget-view+json": {
              "version_major": 2,
              "version_minor": 0,
              "model_id": "58bb2ca8220e48d187595b217fbb29a0"
            }
          },
          "metadata": {}
        },
        {
          "output_type": "display_data",
          "data": {
            "application/aml.mini.widget.v1": "{\"status\": \"Completed\", \"workbench_run_details_uri\": \"https://ml.azure.com/runs/AutoML_459e811c-00f4-4099-a31f-a186a9f4de26?wsid=/subscriptions/f5091c60-1c3c-430f-8d81-d802f6bf2414/resourcegroups/aml-quickstarts-204069/workspaces/quick-starts-ws-204069&tid=660b3398-b80e-49d2-bc5b-ac1dc93b5254\", \"run_id\": \"AutoML_459e811c-00f4-4099-a31f-a186a9f4de26\", \"run_properties\": {\"run_id\": \"AutoML_459e811c-00f4-4099-a31f-a186a9f4de26\", \"created_utc\": \"2022-08-12T08:14:11.977099Z\", \"properties\": {\"num_iterations\": \"1000\", \"training_type\": \"TrainFull\", \"acquisition_function\": \"EI\", \"primary_metric\": \"accuracy\", \"train_split\": \"0\", \"acquisition_parameter\": \"0\", \"num_cross_validation\": null, \"target\": \"automl-cluster\", \"AMLSettingsJsonString\": \"{\\\"path\\\":null,\\\"name\\\":\\\"automl_run\\\",\\\"subscription_id\\\":\\\"f5091c60-1c3c-430f-8d81-d802f6bf2414\\\",\\\"resource_group\\\":\\\"aml-quickstarts-204069\\\",\\\"workspace_name\\\":\\\"quick-starts-ws-204069\\\",\\\"region\\\":\\\"southcentralus\\\",\\\"compute_target\\\":\\\"automl-cluster\\\",\\\"spark_service\\\":null,\\\"azure_service\\\":\\\"remote\\\",\\\"many_models\\\":false,\\\"pipeline_fetch_max_batch_size\\\":1,\\\"enable_batch_run\\\":true,\\\"enable_run_restructure\\\":false,\\\"start_auxiliary_runs_before_parent_complete\\\":false,\\\"enable_code_generation\\\":true,\\\"iterations\\\":1000,\\\"primary_metric\\\":\\\"accuracy\\\",\\\"task_type\\\":\\\"classification\\\",\\\"positive_label\\\":null,\\\"data_script\\\":null,\\\"test_size\\\":0.0,\\\"test_include_predictions_only\\\":false,\\\"validation_size\\\":0.0,\\\"n_cross_validations\\\":null,\\\"y_min\\\":null,\\\"y_max\\\":null,\\\"num_classes\\\":null,\\\"featurization\\\":\\\"auto\\\",\\\"_ignore_package_version_incompatibilities\\\":false,\\\"is_timeseries\\\":false,\\\"max_cores_per_iteration\\\":1,\\\"max_concurrent_iterations\\\":5,\\\"iteration_timeout_minutes\\\":null,\\\"mem_in_mb\\\":null,\\\"enforce_time_on_windows\\\":false,\\\"experiment_timeout_minutes\\\":30,\\\"experiment_exit_score\\\":null,\\\"partition_column_names\\\":null,\\\"whitelist_models\\\":null,\\\"blacklist_algos\\\":[\\\"TensorFlowLinearClassifier\\\",\\\"TensorFlowDNN\\\"],\\\"supported_models\\\":[\\\"AveragedPerceptronClassifier\\\",\\\"TensorFlowDNN\\\",\\\"SVM\\\",\\\"GradientBoosting\\\",\\\"BernoulliNaiveBayes\\\",\\\"DecisionTree\\\",\\\"ExtremeRandomTrees\\\",\\\"LightGBM\\\",\\\"XGBoostClassifier\\\",\\\"LogisticRegression\\\",\\\"LinearSVM\\\",\\\"MultinomialNaiveBayes\\\",\\\"KNN\\\",\\\"TabnetClassifier\\\",\\\"SGD\\\",\\\"RandomForest\\\",\\\"TensorFlowLinearClassifier\\\"],\\\"private_models\\\":[],\\\"auto_blacklist\\\":true,\\\"blacklist_samples_reached\\\":false,\\\"exclude_nan_labels\\\":true,\\\"verbosity\\\":20,\\\"_debug_log\\\":\\\"azureml_automl.log\\\",\\\"show_warnings\\\":false,\\\"model_explainability\\\":true,\\\"service_url\\\":null,\\\"sdk_url\\\":null,\\\"sdk_packages\\\":null,\\\"enable_onnx_compatible_models\\\":false,\\\"enable_split_onnx_featurizer_estimator_models\\\":false,\\\"vm_type\\\":\\\"STANDARD_D2_V2\\\",\\\"telemetry_verbosity\\\":20,\\\"send_telemetry\\\":true,\\\"enable_dnn\\\":false,\\\"scenario\\\":\\\"SDK-1.13.0\\\",\\\"environment_label\\\":null,\\\"save_mlflow\\\":false,\\\"enable_categorical_indicators\\\":false,\\\"force_text_dnn\\\":false,\\\"enable_feature_sweeping\\\":true,\\\"enable_early_stopping\\\":true,\\\"early_stopping_n_iters\\\":10,\\\"arguments\\\":null,\\\"dataset_id\\\":\\\"637179f7-a448-48cf-95e8-a3fcc5e86533\\\",\\\"hyperdrive_config\\\":null,\\\"validation_dataset_id\\\":null,\\\"run_source\\\":null,\\\"metrics\\\":null,\\\"enable_metric_confidence\\\":false,\\\"enable_ensembling\\\":true,\\\"enable_stack_ensembling\\\":true,\\\"ensemble_iterations\\\":15,\\\"enable_tf\\\":false,\\\"enable_subsampling\\\":null,\\\"subsample_seed\\\":null,\\\"enable_nimbusml\\\":false,\\\"enable_streaming\\\":false,\\\"force_streaming\\\":false,\\\"track_child_runs\\\":true,\\\"allowed_private_models\\\":[],\\\"label_column_name\\\":\\\"Classes_mapped\\\",\\\"weight_column_name\\\":null,\\\"cv_split_column_names\\\":null,\\\"enable_local_managed\\\":false,\\\"_local_managed_run_id\\\":null,\\\"cost_mode\\\":1,\\\"lag_length\\\":0,\\\"metric_operation\\\":\\\"maximize\\\",\\\"preprocess\\\":true}\", \"DataPrepJsonString\": \"{\\\\\\\"training_data\\\\\\\": {\\\\\\\"datasetId\\\\\\\": \\\\\\\"637179f7-a448-48cf-95e8-a3fcc5e86533\\\\\\\"}, \\\\\\\"datasets\\\\\\\": 0}\", \"EnableSubsampling\": null, \"runTemplate\": \"AutoML\", \"azureml.runsource\": \"automl\", \"display_task_type\": \"classification\", \"dependencies_versions\": \"{\\\"azureml-widgets\\\": \\\"1.42.0\\\", \\\"azureml-training-tabular\\\": \\\"1.42.0\\\", \\\"azureml-train\\\": \\\"1.42.0\\\", \\\"azureml-train-restclients-hyperdrive\\\": \\\"1.42.0\\\", \\\"azureml-train-core\\\": \\\"1.42.0\\\", \\\"azureml-train-automl\\\": \\\"1.42.0\\\", \\\"azureml-train-automl-runtime\\\": \\\"1.42.0\\\", \\\"azureml-train-automl-client\\\": \\\"1.42.0\\\", \\\"azureml-tensorboard\\\": \\\"1.42.0\\\", \\\"azureml-telemetry\\\": \\\"1.42.0\\\", \\\"azureml-sdk\\\": \\\"1.42.0\\\", \\\"azureml-samples\\\": \\\"0+unknown\\\", \\\"azureml-responsibleai\\\": \\\"1.42.0\\\", \\\"azureml-pipeline\\\": \\\"1.42.0\\\", \\\"azureml-pipeline-steps\\\": \\\"1.42.0\\\", \\\"azureml-pipeline-core\\\": \\\"1.42.0\\\", \\\"azureml-opendatasets\\\": \\\"1.42.0\\\", \\\"azureml-mlflow\\\": \\\"1.42.0\\\", \\\"azureml-interpret\\\": \\\"1.42.0\\\", \\\"azureml-inference-server-http\\\": \\\"0.4.13\\\", \\\"azureml-explain-model\\\": \\\"1.42.0\\\", \\\"azureml-defaults\\\": \\\"1.42.0\\\", \\\"azureml-dataset-runtime\\\": \\\"1.42.0\\\", \\\"azureml-dataprep\\\": \\\"4.0.1\\\", \\\"azureml-dataprep-rslex\\\": \\\"2.6.1\\\", \\\"azureml-dataprep-native\\\": \\\"38.0.0\\\", \\\"azureml-datadrift\\\": \\\"1.42.0\\\", \\\"azureml-core\\\": \\\"1.42.0\\\", \\\"azureml-contrib-services\\\": \\\"1.42.0\\\", \\\"azureml-contrib-server\\\": \\\"1.42.0\\\", \\\"azureml-contrib-reinforcementlearning\\\": \\\"1.42.0\\\", \\\"azureml-contrib-pipeline-steps\\\": \\\"1.42.0\\\", \\\"azureml-contrib-notebook\\\": \\\"1.42.0\\\", \\\"azureml-contrib-fairness\\\": \\\"1.42.0\\\", \\\"azureml-contrib-dataset\\\": \\\"1.42.0\\\", \\\"azureml-contrib-automl-pipeline-steps\\\": \\\"1.42.0\\\", \\\"azureml-cli-common\\\": \\\"1.42.0\\\", \\\"azureml-automl-runtime\\\": \\\"1.42.0\\\", \\\"azureml-automl-dnn-nlp\\\": \\\"1.42.0\\\", \\\"azureml-automl-core\\\": \\\"1.42.0\\\", \\\"azureml-accel-models\\\": \\\"1.42.0\\\"}\", \"_aml_system_scenario_identification\": \"Remote.Parent\", \"ClientType\": \"SDK\", \"environment_cpu_name\": \"AzureML-AutoML\", \"environment_cpu_label\": \"prod\", \"environment_gpu_name\": \"AzureML-AutoML-GPU\", \"environment_gpu_label\": \"prod\", \"root_attribution\": \"automl\", \"attribution\": \"AutoML\", \"Orchestrator\": \"AutoML\", \"CancelUri\": \"https://southcentralus.api.azureml.ms/jasmine/v1.0/subscriptions/f5091c60-1c3c-430f-8d81-d802f6bf2414/resourceGroups/aml-quickstarts-204069/providers/Microsoft.MachineLearningServices/workspaces/quick-starts-ws-204069/experimentids/c523437e-51b8-40f6-91f7-4b7994c0a239/cancel/AutoML_459e811c-00f4-4099-a31f-a186a9f4de26\", \"ClientSdkVersion\": \"1.43.0.post1\", \"snapshotId\": \"00000000-0000-0000-0000-000000000000\", \"SetupRunId\": \"AutoML_459e811c-00f4-4099-a31f-a186a9f4de26_setup\", \"SetupRunContainerId\": \"dcid.AutoML_459e811c-00f4-4099-a31f-a186a9f4de26_setup\", \"FeaturizationRunJsonPath\": \"featurizer_container.json\", \"FeaturizationRunId\": \"AutoML_459e811c-00f4-4099-a31f-a186a9f4de26_featurize\", \"ProblemInfoJsonString\": \"{\\\"dataset_num_categorical\\\": 0, \\\"is_sparse\\\": true, \\\"subsampling\\\": false, \\\"has_extra_col\\\": true, \\\"dataset_classes\\\": 2, \\\"dataset_features\\\": 15, \\\"dataset_samples\\\": 243, \\\"single_frequency_class_detected\\\": false}\", \"ModelExplainRunId\": \"AutoML_459e811c-00f4-4099-a31f-a186a9f4de26_ModelExplain\"}, \"tags\": {\"model_explain_run\": \"best_run\", \"_aml_system_automl_run_workspace_id\": \"b20036a5-66a8-4bd8-8896-e931d3e27cbc\", \"_aml_system_azureml.automlComponent\": \"AutoML\", \"pipeline_id\": \"\", \"score\": \"\", \"predicted_cost\": \"\", \"fit_time\": \"\", \"training_percent\": \"\", \"iteration\": \"\", \"run_preprocessor\": \"\", \"run_algorithm\": \"\", \"dynamic_allowlisting_iterations\": \"<23>;<30>;<35>;\", \"_aml_system_azureml.automl_early_exit_message\": \"No scores improved over last 10 iterations, so experiment stopped early. This early stopping behavior can be disabled by setting enable_early_stopping = False in AutoMLConfig for notebook/python SDK runs.\", \"automl_best_child_run_id\": \"AutoML_459e811c-00f4-4099-a31f-a186a9f4de26_38\", \"model_explain_best_run_child_id\": \"AutoML_459e811c-00f4-4099-a31f-a186a9f4de26_38\"}, \"end_time_utc\": \"2022-08-12T08:37:12.612559Z\", \"status\": \"Completed\", \"log_files\": {}, \"log_groups\": [], \"run_duration\": \"0:23:00\", \"run_number\": \"1660292051\", \"run_queued_details\": {\"status\": \"Completed\", \"details\": null}}, \"child_runs\": [{\"run_id\": \"AutoML_459e811c-00f4-4099-a31f-a186a9f4de26_setup\", \"run_number\": 1660292064, \"metric\": null, \"status\": \"Completed\", \"run_type\": \"azureml.scriptrun\", \"training_percent\": null, \"start_time\": \"2022-08-12T08:17:31.97436Z\", \"end_time\": \"2022-08-12T08:23:03.784745Z\", \"created_time\": \"2022-08-12T08:14:24.289558Z\", \"created_time_dt\": \"2022-08-12T08:14:24.289558Z\", \"duration\": \"0:08:39\", \"iteration\": null, \"goal\": null, \"run_name\": \"Completed\", \"run_properties\": null}, {\"run_id\": \"AutoML_459e811c-00f4-4099-a31f-a186a9f4de26_featurize\", \"run_number\": 1660292584, \"metric\": null, \"status\": \"Completed\", \"run_type\": \"automl.featurization\", \"training_percent\": null, \"start_time\": \"2022-08-12T08:23:04.507098Z\", \"end_time\": \"2022-08-12T08:25:26.117863Z\", \"created_time\": \"2022-08-12T08:23:04.207859Z\", \"created_time_dt\": \"2022-08-12T08:23:04.207859Z\", \"duration\": \"0:02:21\", \"iteration\": null, \"goal\": null, \"run_name\": \"Completed\", \"run_properties\": null}, {\"run_id\": \"AutoML_459e811c-00f4-4099-a31f-a186a9f4de26_0\", \"run_number\": 1660292727, \"metric\": null, \"status\": \"Completed\", \"run_type\": null, \"training_percent\": \"100\", \"start_time\": \"2022-08-12T08:25:48.218416Z\", \"end_time\": \"2022-08-12T08:25:58.370734Z\", \"created_time\": \"2022-08-12T08:25:27.458719Z\", \"created_time_dt\": \"2022-08-12T08:25:27.458719Z\", \"duration\": \"0:00:30\", \"iteration\": \"0\", \"goal\": \"accuracy_max\", \"run_name\": \"MaxAbsScaler, LightGBM\", \"run_properties\": \"copy=True\", \"primary_metric\": 0.96716667, \"best_metric\": 0.96716667}, {\"run_id\": \"AutoML_459e811c-00f4-4099-a31f-a186a9f4de26_worker_0\", \"run_number\": 1660292728, \"metric\": null, \"status\": \"Completed\", \"run_type\": \"azureml.scriptrun\", \"training_percent\": null, \"start_time\": \"2022-08-12T08:25:35.965722Z\", \"end_time\": \"2022-08-12T08:26:47.10112Z\", \"created_time\": \"2022-08-12T08:25:28.73147Z\", \"created_time_dt\": \"2022-08-12T08:25:28.73147Z\", \"duration\": \"0:01:18\", \"iteration\": null, \"goal\": null, \"run_name\": \"Completed\", \"run_properties\": null}, {\"run_id\": \"AutoML_459e811c-00f4-4099-a31f-a186a9f4de26_4\", \"run_number\": 1660292729, \"metric\": null, \"status\": \"Completed\", \"run_type\": null, \"training_percent\": \"100\", \"start_time\": \"2022-08-12T08:27:07.862462Z\", \"end_time\": \"2022-08-12T08:27:15.957729Z\", \"created_time\": \"2022-08-12T08:25:29.064313Z\", \"created_time_dt\": \"2022-08-12T08:25:29.064313Z\", \"duration\": \"0:01:46\", \"iteration\": \"4\", \"goal\": \"accuracy_max\", \"run_name\": \"MaxAbsScaler, LightGBM\", \"run_properties\": \"copy=True\", \"primary_metric\": 0.98383333, \"best_metric\": 0.98383333}, {\"run_id\": \"AutoML_459e811c-00f4-4099-a31f-a186a9f4de26_worker_1\", \"run_number\": 1660292730, \"metric\": null, \"status\": \"Completed\", \"run_type\": \"azureml.scriptrun\", \"training_percent\": null, \"start_time\": \"2022-08-12T08:26:56.194583Z\", \"end_time\": \"2022-08-12T08:27:57.960917Z\", \"created_time\": \"2022-08-12T08:25:30.377686Z\", \"created_time_dt\": \"2022-08-12T08:25:30.377686Z\", \"duration\": \"0:02:27\", \"iteration\": null, \"goal\": null, \"run_name\": \"Completed\", \"run_properties\": null}, {\"run_id\": \"AutoML_459e811c-00f4-4099-a31f-a186a9f4de26_worker_2\", \"run_number\": 1660292731, \"metric\": null, \"status\": \"Completed\", \"run_type\": \"azureml.scriptrun\", \"training_percent\": null, \"start_time\": \"2022-08-12T08:28:05.781869Z\", \"end_time\": \"2022-08-12T08:29:05.89796Z\", \"created_time\": \"2022-08-12T08:25:31.877882Z\", \"created_time_dt\": \"2022-08-12T08:25:31.877882Z\", \"duration\": \"0:03:34\", \"iteration\": null, \"goal\": null, \"run_name\": \"Completed\", \"run_properties\": null}, {\"run_id\": \"AutoML_459e811c-00f4-4099-a31f-a186a9f4de26_12\", \"run_number\": 1660292732, \"metric\": null, \"status\": \"Completed\", \"run_type\": null, \"training_percent\": \"100\", \"start_time\": \"2022-08-12T08:34:28.424622Z\", \"end_time\": \"2022-08-12T08:34:41.710999Z\", \"created_time\": \"2022-08-12T08:25:32.00078Z\", \"created_time_dt\": \"2022-08-12T08:25:32.00078Z\", \"duration\": \"0:09:09\", \"iteration\": \"12\", \"goal\": \"accuracy_max\", \"run_name\": \"MaxAbsScaler, LogisticRegression\", \"run_properties\": \"copy=True\", \"primary_metric\": 0.9715, \"best_metric\": 0.98383333}, {\"run_id\": \"AutoML_459e811c-00f4-4099-a31f-a186a9f4de26_worker_3\", \"run_number\": 1660292733, \"metric\": null, \"status\": \"Completed\", \"run_type\": \"azureml.scriptrun\", \"training_percent\": null, \"start_time\": \"2022-08-12T08:29:19.798034Z\", \"end_time\": \"2022-08-12T08:35:24.171082Z\", \"created_time\": \"2022-08-12T08:25:33.340285Z\", \"created_time_dt\": \"2022-08-12T08:25:33.340285Z\", \"duration\": \"0:09:50\", \"iteration\": null, \"goal\": null, \"run_name\": \"Completed\", \"run_properties\": null}, {\"run_id\": \"AutoML_459e811c-00f4-4099-a31f-a186a9f4de26_worker_4\", \"run_number\": 1660292734, \"metric\": null, \"status\": \"Completed\", \"run_type\": \"azureml.scriptrun\", \"training_percent\": null, \"start_time\": \"2022-08-12T08:29:06.755823Z\", \"end_time\": \"2022-08-12T08:31:50.505216Z\", \"created_time\": \"2022-08-12T08:25:34.774165Z\", \"created_time_dt\": \"2022-08-12T08:25:34.774165Z\", \"duration\": \"0:06:15\", \"iteration\": null, \"goal\": null, \"run_name\": \"Completed\", \"run_properties\": null}, {\"run_id\": \"AutoML_459e811c-00f4-4099-a31f-a186a9f4de26_20\", \"run_number\": 1660293107, \"metric\": null, \"status\": \"Completed\", \"run_type\": \"azureml.scriptrun\", \"training_percent\": \"100\", \"start_time\": \"2022-08-12T08:31:53.916607Z\", \"end_time\": \"2022-08-12T08:32:26.725859Z\", \"created_time\": \"2022-08-12T08:31:47.526119Z\", \"created_time_dt\": \"2022-08-12T08:31:47.526119Z\", \"duration\": \"0:00:39\", \"iteration\": \"20\", \"goal\": \"accuracy_max\", \"run_name\": \"TruncatedSVDWrapper, RandomForest\", \"run_properties\": \"n_components=0.7026315789473684, random_state=None\", \"primary_metric\": 0.89366667, \"best_metric\": 0.98383333}, {\"run_id\": \"AutoML_459e811c-00f4-4099-a31f-a186a9f4de26_25\", \"run_number\": 1660293229, \"metric\": null, \"status\": \"Completed\", \"run_type\": \"azureml.scriptrun\", \"training_percent\": \"100\", \"start_time\": \"2022-08-12T08:34:00.962386Z\", \"end_time\": \"2022-08-12T08:34:24.444262Z\", \"created_time\": \"2022-08-12T08:33:49.680552Z\", \"created_time_dt\": \"2022-08-12T08:33:49.680552Z\", \"duration\": \"0:00:34\", \"iteration\": \"25\", \"goal\": \"accuracy_max\", \"run_name\": \"StandardScalerWrapper, RandomForest\", \"run_properties\": \"copy=True, with_mean=False, with_std=False\", \"primary_metric\": 0.98366667, \"best_metric\": 0.98383333}, {\"run_id\": \"AutoML_459e811c-00f4-4099-a31f-a186a9f4de26_27\", \"run_number\": 1660293283, \"metric\": null, \"status\": \"Completed\", \"run_type\": \"azureml.scriptrun\", \"training_percent\": \"100\", \"start_time\": \"2022-08-12T08:34:51.337408Z\", \"end_time\": \"2022-08-12T08:35:19.430191Z\", \"created_time\": \"2022-08-12T08:34:43.122532Z\", \"created_time_dt\": \"2022-08-12T08:34:43.122532Z\", \"duration\": \"0:00:36\", \"iteration\": \"27\", \"goal\": \"accuracy_max\", \"run_name\": \"StandardScalerWrapper, XGBoostClassifier\", \"run_properties\": \"copy=True, with_mean=False, with_std=False\", \"primary_metric\": 0.9755, \"best_metric\": 0.98383333}, {\"run_id\": \"AutoML_459e811c-00f4-4099-a31f-a186a9f4de26_30\", \"run_number\": 1660293305, \"metric\": null, \"status\": \"Completed\", \"run_type\": \"azureml.scriptrun\", \"training_percent\": \"100\", \"start_time\": \"2022-08-12T08:35:27.933216Z\", \"end_time\": \"2022-08-12T08:35:56.397573Z\", \"created_time\": \"2022-08-12T08:35:05.402499Z\", \"created_time_dt\": \"2022-08-12T08:35:05.402499Z\", \"duration\": \"0:00:50\", \"iteration\": \"30\", \"goal\": \"accuracy_max\", \"run_name\": \"SparseNormalizer, XGBoostClassifier\", \"run_properties\": \"copy=True, norm='l2'\", \"primary_metric\": 0.96316667, \"best_metric\": 0.98383333}, {\"run_id\": \"AutoML_459e811c-00f4-4099-a31f-a186a9f4de26_31\", \"run_number\": 1660293320, \"metric\": null, \"status\": \"Completed\", \"run_type\": \"azureml.scriptrun\", \"training_percent\": \"100\", \"start_time\": \"2022-08-12T08:35:29.044458Z\", \"end_time\": \"2022-08-12T08:35:57.797454Z\", \"created_time\": \"2022-08-12T08:35:20.255076Z\", \"created_time_dt\": \"2022-08-12T08:35:20.255076Z\", \"duration\": \"0:00:37\", \"iteration\": \"31\", \"goal\": \"accuracy_max\", \"run_name\": \"MaxAbsScaler, RandomForest\", \"run_properties\": \"copy=True\", \"primary_metric\": 0.97966667, \"best_metric\": 0.98383333}, {\"run_id\": \"AutoML_459e811c-00f4-4099-a31f-a186a9f4de26_32\", \"run_number\": 1660293322, \"metric\": null, \"status\": \"Completed\", \"run_type\": \"azureml.scriptrun\", \"training_percent\": \"100\", \"start_time\": \"2022-08-12T08:35:31.732808Z\", \"end_time\": \"2022-08-12T08:35:59.427554Z\", \"created_time\": \"2022-08-12T08:35:22.319218Z\", \"created_time_dt\": \"2022-08-12T08:35:22.319218Z\", \"duration\": \"0:00:37\", \"iteration\": \"32\", \"goal\": \"accuracy_max\", \"run_name\": \"MaxAbsScaler, LightGBM\", \"run_properties\": \"copy=True\", \"primary_metric\": 0.97566667, \"best_metric\": 0.98383333}, {\"run_id\": \"AutoML_459e811c-00f4-4099-a31f-a186a9f4de26_33\", \"run_number\": 1660293337, \"metric\": null, \"status\": \"Completed\", \"run_type\": \"azureml.scriptrun\", \"training_percent\": \"100\", \"start_time\": \"2022-08-12T08:35:43.723822Z\", \"end_time\": \"2022-08-12T08:36:10.178127Z\", \"created_time\": \"2022-08-12T08:35:37.168711Z\", \"created_time_dt\": \"2022-08-12T08:35:37.168711Z\", \"duration\": \"0:00:33\", \"iteration\": \"33\", \"goal\": \"accuracy_max\", \"run_name\": \"StandardScalerWrapper, RandomForest\", \"run_properties\": \"copy=True, with_mean=False, with_std=False\", \"primary_metric\": 0.96716667, \"best_metric\": 0.98383333}, {\"run_id\": \"AutoML_459e811c-00f4-4099-a31f-a186a9f4de26_35\", \"run_number\": 1660293359, \"metric\": null, \"status\": \"Canceled\", \"run_type\": \"azureml.scriptrun\", \"training_percent\": \"100\", \"start_time\": \"2022-08-12T08:36:05.471527Z\", \"end_time\": \"2022-08-12T08:36:11.006769Z\", \"created_time\": \"2022-08-12T08:35:59.127182Z\", \"created_time_dt\": \"2022-08-12T08:35:59.127182Z\", \"duration\": \"0:00:11\", \"iteration\": \"35\", \"goal\": null, \"run_name\": \"Canceled\", \"run_properties\": null}, {\"run_id\": \"AutoML_459e811c-00f4-4099-a31f-a186a9f4de26_36\", \"run_number\": 1660293361, \"metric\": null, \"status\": \"Canceled\", \"run_type\": \"azureml.scriptrun\", \"training_percent\": \"100\", \"start_time\": \"2022-08-12T08:36:08.239474Z\", \"end_time\": \"2022-08-12T08:36:11.070512Z\", \"created_time\": \"2022-08-12T08:36:01.400363Z\", \"created_time_dt\": \"2022-08-12T08:36:01.400363Z\", \"duration\": \"0:00:09\", \"iteration\": \"36\", \"goal\": null, \"run_name\": \"Canceled\", \"run_properties\": null}, {\"run_id\": \"AutoML_459e811c-00f4-4099-a31f-a186a9f4de26_39\", \"run_number\": 1660293371, \"metric\": null, \"status\": \"Completed\", \"run_type\": \"azureml.scriptrun\", \"training_percent\": \"100\", \"start_time\": \"2022-08-12T08:36:20.381066Z\", \"end_time\": \"2022-08-12T08:37:11.396725Z\", \"created_time\": \"2022-08-12T08:36:11.821298Z\", \"created_time_dt\": \"2022-08-12T08:36:11.821298Z\", \"duration\": \"0:00:59\", \"iteration\": \"39\", \"goal\": \"accuracy_max\", \"run_name\": \"StackEnsemble\", \"run_properties\": \"base_learners=[('9', Pipeline(memory=None, steps=[('standardscalerwrapper', StandardScalerWrapper(copy=True, with_mean=False, with_std=False\", \"primary_metric\": 0.98383333, \"best_metric\": 0.98383333}], \"children_metrics\": {\"categories\": [0], \"series\": {\"precision_score_micro\": [{\"categories\": [\"0\", \"4\", \"12\", \"20\", \"25\", \"27\", \"30\", \"31\", \"32\", \"33\", \"39\"], \"mode\": \"markers\", \"name\": \"precision_score_micro\", \"stepped\": false, \"type\": \"scatter\", \"data\": [0.9671666666666667, 0.9838333333333333, 0.9715000000000001, 0.8936666666666666, 0.9836666666666668, 0.9755, 0.9631666666666666, 0.9796666666666667, 0.9756666666666668, 0.9671666666666667, 0.9838333333333333]}, {\"categories\": [\"0\", \"4\", \"12\", \"20\", \"25\", \"27\", \"30\", \"31\", \"32\", \"33\", \"39\"], \"mode\": \"lines\", \"name\": \"precision_score_micro_max\", \"stepped\": true, \"type\": \"scatter\", \"data\": [0.9671666666666667, 0.9838333333333333, 0.9838333333333333, 0.9838333333333333, 0.9838333333333333, 0.9838333333333333, 0.9838333333333333, 0.9838333333333333, 0.9838333333333333, 0.9838333333333333, 0.9838333333333333]}], \"log_loss\": [{\"categories\": [\"0\", \"4\", \"12\", \"20\", \"25\", \"27\", \"30\", \"31\", \"32\", \"33\", \"39\"], \"mode\": \"markers\", \"name\": \"log_loss\", \"stepped\": false, \"type\": \"scatter\", \"data\": [0.10668811840227425, 0.10939466686834334, 0.06531067385747316, 0.22358252863432168, 0.06823431713425353, 0.12374920189121144, 0.08564504441374665, 0.07636943680851861, 0.10129121850635611, 0.11800317680158072, 0.2054229438838417]}, {\"categories\": [\"0\", \"4\", \"12\", \"20\", \"25\", \"27\", \"30\", \"31\", \"32\", \"33\", \"39\"], \"mode\": \"lines\", \"name\": \"log_loss_min\", \"stepped\": true, \"type\": \"scatter\", \"data\": [0.10668811840227425, 0.10668811840227425, 0.06531067385747316, 0.06531067385747316, 0.06531067385747316, 0.06531067385747316, 0.06531067385747316, 0.06531067385747316, 0.06531067385747316, 0.06531067385747316, 0.06531067385747316]}], \"recall_score_macro\": [{\"categories\": [\"0\", \"4\", \"12\", \"20\", \"25\", \"27\", \"30\", \"31\", \"32\", \"33\", \"39\"], \"mode\": \"markers\", \"name\": \"recall_score_macro\", \"stepped\": false, \"type\": \"scatter\", \"data\": [0.9681910246616129, 0.9840460030165913, 0.969403145873734, 0.8857963360169243, 0.9854745744451625, 0.9770829660535542, 0.9627864782276546, 0.9822236586942468, 0.9760331825037707, 0.9709141348847231, 0.9851998491704373]}, {\"categories\": [\"0\", \"4\", \"12\", \"20\", \"25\", \"27\", \"30\", \"31\", \"32\", \"33\", \"39\"], \"mode\": \"lines\", \"name\": \"recall_score_macro_max\", \"stepped\": true, \"type\": \"scatter\", \"data\": [0.9681910246616129, 0.9840460030165913, 0.9840460030165913, 0.9840460030165913, 0.9854745744451625, 0.9854745744451625, 0.9854745744451625, 0.9854745744451625, 0.9854745744451625, 0.9854745744451625, 0.9854745744451625]}], \"average_precision_score_micro\": [{\"categories\": [\"0\", \"4\", \"12\", \"20\", \"25\", \"27\", \"30\", \"31\", \"32\", \"33\", \"39\"], \"mode\": \"markers\", \"name\": \"average_precision_score_micro\", \"stepped\": false, \"type\": \"scatter\", \"data\": [0.9975023443223444, 0.9984394373219374, 0.9962172267178376, 0.9721074653905666, 0.9990565242165241, 0.9984397150997151, 0.9945064438934379, 0.9986063817663817, 0.9975575862618141, 0.9953930603224597, 0.9955959547326139]}, {\"categories\": [\"0\", \"4\", \"12\", \"20\", \"25\", \"27\", \"30\", \"31\", \"32\", \"33\", \"39\"], \"mode\": \"lines\", \"name\": \"average_precision_score_micro_max\", \"stepped\": true, \"type\": \"scatter\", \"data\": [0.9975023443223444, 0.9984394373219374, 0.9984394373219374, 0.9984394373219374, 0.9990565242165241, 0.9990565242165241, 0.9990565242165241, 0.9990565242165241, 0.9990565242165241, 0.9990565242165241, 0.9990565242165241]}], \"f1_score_macro\": [{\"categories\": [\"0\", \"4\", \"12\", \"20\", \"25\", \"27\", \"30\", \"31\", \"32\", \"33\", \"39\"], \"mode\": \"markers\", \"name\": \"f1_score_macro\", \"stepped\": false, \"type\": \"scatter\", \"data\": [0.9662529510557162, 0.9831252767976071, 0.9690747642051989, 0.8865008207668055, 0.9831369547379778, 0.974891329992353, 0.9605276259688026, 0.9790652430358312, 0.9749385432413084, 0.9664997216007446, 0.9833569384579615]}, {\"categories\": [\"0\", \"4\", \"12\", \"20\", \"25\", \"27\", \"30\", \"31\", \"32\", \"33\", \"39\"], \"mode\": \"lines\", \"name\": \"f1_score_macro_max\", \"stepped\": true, \"type\": \"scatter\", \"data\": [0.9662529510557162, 0.9831252767976071, 0.9831252767976071, 0.9831252767976071, 0.9831369547379778, 0.9831369547379778, 0.9831369547379778, 0.9831369547379778, 0.9831369547379778, 0.9831369547379778, 0.9833569384579615]}], \"AUC_macro\": [{\"categories\": [\"0\", \"4\", \"12\", \"20\", \"25\", \"27\", \"30\", \"31\", \"32\", \"33\", \"39\"], \"mode\": \"markers\", \"name\": \"AUC_macro\", \"stepped\": false, \"type\": \"scatter\", \"data\": [0.9992647058823529, 0.9989174836601308, 0.9970588235294118, 0.9776480921039745, 1.0, 0.9992647058823529, 0.9941176470588236, 0.9992647058823529, 0.9992647058823529, 0.9979826546003017, 0.9992647058823529]}, {\"categories\": [\"0\", \"4\", \"12\", \"20\", \"25\", \"27\", \"30\", \"31\", \"32\", \"33\", \"39\"], \"mode\": \"lines\", \"name\": \"AUC_macro_max\", \"stepped\": true, \"type\": \"scatter\", \"data\": [0.9992647058823529, 0.9992647058823529, 0.9992647058823529, 0.9992647058823529, 1.0, 1.0, 1.0, 1.0, 1.0, 1.0, 1.0]}], \"recall_score_micro\": [{\"categories\": [\"0\", \"4\", \"12\", \"20\", \"25\", \"27\", \"30\", \"31\", \"32\", \"33\", \"39\"], \"mode\": \"markers\", \"name\": \"recall_score_micro\", \"stepped\": false, \"type\": \"scatter\", \"data\": [0.9671666666666667, 0.9838333333333333, 0.9715000000000001, 0.8936666666666666, 0.9836666666666668, 0.9755, 0.9631666666666666, 0.9796666666666667, 0.9756666666666668, 0.9671666666666667, 0.9838333333333333]}, {\"categories\": [\"0\", \"4\", \"12\", \"20\", \"25\", \"27\", \"30\", \"31\", \"32\", \"33\", \"39\"], \"mode\": \"lines\", \"name\": \"recall_score_micro_max\", \"stepped\": true, \"type\": \"scatter\", \"data\": [0.9671666666666667, 0.9838333333333333, 0.9838333333333333, 0.9838333333333333, 0.9838333333333333, 0.9838333333333333, 0.9838333333333333, 0.9838333333333333, 0.9838333333333333, 0.9838333333333333, 0.9838333333333333]}], \"balanced_accuracy\": [{\"categories\": [\"0\", \"4\", \"12\", \"20\", \"25\", \"27\", \"30\", \"31\", \"32\", \"33\", \"39\"], \"mode\": \"markers\", \"name\": \"balanced_accuracy\", \"stepped\": false, \"type\": \"scatter\", \"data\": [0.9681910246616129, 0.9840460030165913, 0.969403145873734, 0.8857963360169243, 0.9854745744451625, 0.9770829660535542, 0.9627864782276546, 0.9822236586942468, 0.9760331825037707, 0.9709141348847231, 0.9851998491704373]}, {\"categories\": [\"0\", \"4\", \"12\", \"20\", \"25\", \"27\", \"30\", \"31\", \"32\", \"33\", \"39\"], \"mode\": \"lines\", \"name\": \"balanced_accuracy_max\", \"stepped\": true, \"type\": \"scatter\", \"data\": [0.9681910246616129, 0.9840460030165913, 0.9840460030165913, 0.9840460030165913, 0.9854745744451625, 0.9854745744451625, 0.9854745744451625, 0.9854745744451625, 0.9854745744451625, 0.9854745744451625, 0.9854745744451625]}], \"matthews_correlation\": [{\"categories\": [\"0\", \"4\", \"12\", \"20\", \"25\", \"27\", \"30\", \"31\", \"32\", \"33\", \"39\"], \"mode\": \"markers\", \"name\": \"matthews_correlation\", \"stepped\": false, \"type\": \"scatter\", \"data\": [0.935236574108312, 0.9676160908388463, 0.939858270454806, 0.7852168808358205, 0.9676381795407055, 0.9523715040145058, 0.9233845817591844, 0.9603848829137258, 0.9524580823571979, 0.9368869294873574, 0.9686155959020487]}, {\"categories\": [\"0\", \"4\", \"12\", \"20\", \"25\", \"27\", \"30\", \"31\", \"32\", \"33\", \"39\"], \"mode\": \"lines\", \"name\": \"matthews_correlation_max\", \"stepped\": true, \"type\": \"scatter\", \"data\": [0.935236574108312, 0.9676160908388463, 0.9676160908388463, 0.9676160908388463, 0.9676381795407055, 0.9676381795407055, 0.9676381795407055, 0.9676381795407055, 0.9676381795407055, 0.9676381795407055, 0.9686155959020487]}], \"f1_score_micro\": [{\"categories\": [\"0\", \"4\", \"12\", \"20\", \"25\", \"27\", \"30\", \"31\", \"32\", \"33\", \"39\"], \"mode\": \"markers\", \"name\": \"f1_score_micro\", \"stepped\": false, \"type\": \"scatter\", \"data\": [0.9671666666666667, 0.9838333333333333, 0.9715000000000001, 0.8936666666666666, 0.9836666666666668, 0.9755, 0.9631666666666666, 0.9796666666666667, 0.9756666666666668, 0.9671666666666667, 0.9838333333333333]}, {\"categories\": [\"0\", \"4\", \"12\", \"20\", \"25\", \"27\", \"30\", \"31\", \"32\", \"33\", \"39\"], \"mode\": \"lines\", \"name\": \"f1_score_micro_max\", \"stepped\": true, \"type\": \"scatter\", \"data\": [0.9671666666666667, 0.9838333333333333, 0.9838333333333333, 0.9838333333333333, 0.9838333333333333, 0.9838333333333333, 0.9838333333333333, 0.9838333333333333, 0.9838333333333333, 0.9838333333333333, 0.9838333333333333]}], \"AUC_weighted\": [{\"categories\": [\"0\", \"4\", \"12\", \"20\", \"25\", \"27\", \"30\", \"31\", \"32\", \"33\", \"39\"], \"mode\": \"markers\", \"name\": \"AUC_weighted\", \"stepped\": false, \"type\": \"scatter\", \"data\": [0.9992647058823529, 0.9989174836601308, 0.9970588235294118, 0.9776480921039745, 1.0, 0.9992647058823529, 0.9941176470588236, 0.9992647058823529, 0.9992647058823529, 0.9979826546003017, 0.9992647058823529]}, {\"categories\": [\"0\", \"4\", \"12\", \"20\", \"25\", \"27\", \"30\", \"31\", \"32\", \"33\", \"39\"], \"mode\": \"lines\", \"name\": \"AUC_weighted_max\", \"stepped\": true, \"type\": \"scatter\", \"data\": [0.9992647058823529, 0.9992647058823529, 0.9992647058823529, 0.9992647058823529, 1.0, 1.0, 1.0, 1.0, 1.0, 1.0, 1.0]}], \"f1_score_weighted\": [{\"categories\": [\"0\", \"4\", \"12\", \"20\", \"25\", \"27\", \"30\", \"31\", \"32\", \"33\", \"39\"], \"mode\": \"markers\", \"name\": \"f1_score_weighted\", \"stepped\": false, \"type\": \"scatter\", \"data\": [0.9671905137377778, 0.9838423809258767, 0.9713082739053753, 0.8919431681008835, 0.9837385071434517, 0.9755241535957649, 0.963246987580321, 0.9797421583500014, 0.9756428268567575, 0.967293187031465, 0.9838574869290981]}, {\"categories\": [\"0\", \"4\", \"12\", \"20\", \"25\", \"27\", \"30\", \"31\", \"32\", \"33\", \"39\"], \"mode\": \"lines\", \"name\": \"f1_score_weighted_max\", \"stepped\": true, \"type\": \"scatter\", \"data\": [0.9671905137377778, 0.9838423809258767, 0.9838423809258767, 0.9838423809258767, 0.9838423809258767, 0.9838423809258767, 0.9838423809258767, 0.9838423809258767, 0.9838423809258767, 0.9838423809258767, 0.9838574869290981]}], \"average_precision_score_macro\": [{\"categories\": [\"0\", \"4\", \"12\", \"20\", \"25\", \"27\", \"30\", \"31\", \"32\", \"33\", \"39\"], \"mode\": \"markers\", \"name\": \"average_precision_score_macro\", \"stepped\": false, \"type\": \"scatter\", \"data\": [0.999142156862745, 0.9985011312217195, 0.9968477731122001, 0.9781406287614844, 1.0, 0.9991421568627452, 0.9932528884994284, 0.999142156862745, 0.9991421568627452, 0.9979616013071896, 0.9991421568627452]}, {\"categories\": [\"0\", \"4\", \"12\", \"20\", \"25\", \"27\", \"30\", \"31\", \"32\", \"33\", \"39\"], \"mode\": \"lines\", \"name\": \"average_precision_score_macro_max\", \"stepped\": true, \"type\": \"scatter\", \"data\": [0.999142156862745, 0.999142156862745, 0.999142156862745, 0.999142156862745, 1.0, 1.0, 1.0, 1.0, 1.0, 1.0, 1.0]}], \"norm_macro_recall\": [{\"categories\": [\"0\", \"4\", \"12\", \"20\", \"25\", \"27\", \"30\", \"31\", \"32\", \"33\", \"39\"], \"mode\": \"markers\", \"name\": \"norm_macro_recall\", \"stepped\": false, \"type\": \"scatter\", \"data\": [0.9363820493232258, 0.9680920060331826, 0.9388062917474682, 0.7715926720338485, 0.9709491488903254, 0.9541659321071085, 0.9255729564553095, 0.9644473173884938, 0.9520663650075415, 0.9418282697694462, 0.9703996983408748]}, {\"categories\": [\"0\", \"4\", \"12\", \"20\", \"25\", \"27\", \"30\", \"31\", \"32\", \"33\", \"39\"], \"mode\": \"lines\", \"name\": \"norm_macro_recall_max\", \"stepped\": true, \"type\": \"scatter\", \"data\": [0.9363820493232258, 0.9680920060331826, 0.9680920060331826, 0.9680920060331826, 0.9709491488903254, 0.9709491488903254, 0.9709491488903254, 0.9709491488903254, 0.9709491488903254, 0.9709491488903254, 0.9709491488903254]}], \"recall_score_weighted\": [{\"categories\": [\"0\", \"4\", \"12\", \"20\", \"25\", \"27\", \"30\", \"31\", \"32\", \"33\", \"39\"], \"mode\": \"markers\", \"name\": \"recall_score_weighted\", \"stepped\": false, \"type\": \"scatter\", \"data\": [0.9671666666666667, 0.9838333333333333, 0.9715000000000001, 0.8936666666666666, 0.9836666666666668, 0.9755, 0.9631666666666666, 0.9796666666666667, 0.9756666666666668, 0.9671666666666667, 0.9838333333333333]}, {\"categories\": [\"0\", \"4\", \"12\", \"20\", \"25\", \"27\", \"30\", \"31\", \"32\", \"33\", \"39\"], \"mode\": \"lines\", \"name\": \"recall_score_weighted_max\", \"stepped\": true, \"type\": \"scatter\", \"data\": [0.9671666666666667, 0.9838333333333333, 0.9838333333333333, 0.9838333333333333, 0.9838333333333333, 0.9838333333333333, 0.9838333333333333, 0.9838333333333333, 0.9838333333333333, 0.9838333333333333, 0.9838333333333333]}], \"average_precision_score_weighted\": [{\"categories\": [\"0\", \"4\", \"12\", \"20\", \"25\", \"27\", \"30\", \"31\", \"32\", \"33\", \"39\"], \"mode\": \"markers\", \"name\": \"average_precision_score_weighted\", \"stepped\": false, \"type\": \"scatter\", \"data\": [0.9993333333333332, 0.9986923076923077, 0.9975027441598648, 0.9799589482992926, 1.0, 0.9993333333333332, 0.9947940582293523, 0.9993333333333332, 0.9993333333333332, 0.9981589743589744, 0.9993333333333332]}, {\"categories\": [\"0\", \"4\", \"12\", \"20\", \"25\", \"27\", \"30\", \"31\", \"32\", \"33\", \"39\"], \"mode\": \"lines\", \"name\": \"average_precision_score_weighted_max\", \"stepped\": true, \"type\": \"scatter\", \"data\": [0.9993333333333332, 0.9993333333333332, 0.9993333333333332, 0.9993333333333332, 1.0, 1.0, 1.0, 1.0, 1.0, 1.0, 1.0]}], \"weighted_accuracy\": [{\"categories\": [\"0\", \"4\", \"12\", \"20\", \"25\", \"27\", \"30\", \"31\", \"32\", \"33\", \"39\"], \"mode\": \"markers\", \"name\": \"weighted_accuracy\", \"stepped\": false, \"type\": \"scatter\", \"data\": [0.9663679620267576, 0.9837871916011596, 0.9728720773149405, 0.9000288446725164, 0.9821343849483529, 0.9741879268674893, 0.9631236716837966, 0.9774179672527019, 0.9754671703019049, 0.9637918411265758, 0.9827107600454947]}, {\"categories\": [\"0\", \"4\", \"12\", \"20\", \"25\", \"27\", \"30\", \"31\", \"32\", \"33\", \"39\"], \"mode\": \"lines\", \"name\": \"weighted_accuracy_max\", \"stepped\": true, \"type\": \"scatter\", \"data\": [0.9663679620267576, 0.9837871916011596, 0.9837871916011596, 0.9837871916011596, 0.9837871916011596, 0.9837871916011596, 0.9837871916011596, 0.9837871916011596, 0.9837871916011596, 0.9837871916011596, 0.9837871916011596]}], \"accuracy\": [{\"categories\": [\"0\", \"4\", \"12\", \"20\", \"25\", \"27\", \"30\", \"31\", \"32\", \"33\", \"39\"], \"mode\": \"markers\", \"name\": \"accuracy\", \"stepped\": false, \"type\": \"scatter\", \"data\": [0.9671666666666667, 0.9838333333333333, 0.9715000000000001, 0.8936666666666666, 0.9836666666666668, 0.9755, 0.9631666666666666, 0.9796666666666667, 0.9756666666666668, 0.9671666666666667, 0.9838333333333333]}, {\"categories\": [\"0\", \"4\", \"12\", \"20\", \"25\", \"27\", \"30\", \"31\", \"32\", \"33\", \"39\"], \"mode\": \"lines\", \"name\": \"accuracy_max\", \"stepped\": true, \"type\": \"scatter\", \"data\": [0.9671666666666667, 0.9838333333333333, 0.9838333333333333, 0.9838333333333333, 0.9838333333333333, 0.9838333333333333, 0.9838333333333333, 0.9838333333333333, 0.9838333333333333, 0.9838333333333333, 0.9838333333333333]}], \"precision_score_macro\": [{\"categories\": [\"0\", \"4\", \"12\", \"20\", \"25\", \"27\", \"30\", \"31\", \"32\", \"33\", \"39\"], \"mode\": \"markers\", \"name\": \"precision_score_macro\", \"stepped\": false, \"type\": \"scatter\", \"data\": [0.9671186452436453, 0.9836271367521368, 0.9705183705183706, 0.9000088873115188, 0.9822066822066823, 0.9753385503385503, 0.9606219760631525, 0.9782106782106782, 0.9764842796092796, 0.966031191031191, 0.9834554334554335]}, {\"categories\": [\"0\", \"4\", \"12\", \"20\", \"25\", \"27\", \"30\", \"31\", \"32\", \"33\", \"39\"], \"mode\": \"lines\", \"name\": \"precision_score_macro_max\", \"stepped\": true, \"type\": \"scatter\", \"data\": [0.9671186452436453, 0.9836271367521368, 0.9836271367521368, 0.9836271367521368, 0.9836271367521368, 0.9836271367521368, 0.9836271367521368, 0.9836271367521368, 0.9836271367521368, 0.9836271367521368, 0.9836271367521368]}], \"AUC_micro\": [{\"categories\": [\"0\", \"4\", \"12\", \"20\", \"25\", \"27\", \"30\", \"31\", \"32\", \"33\", \"39\"], \"mode\": \"markers\", \"name\": \"AUC_micro\", \"stepped\": false, \"type\": \"scatter\", \"data\": [0.9973719444444444, 0.9985327777777778, 0.9959319444444444, 0.9695461111111111, 0.9990127777777777, 0.9983591666666667, 0.9939847222222221, 0.9985327777777778, 0.9974127777777777, 0.9951047222222222, 0.9951863888888889]}, {\"categories\": [\"0\", \"4\", \"12\", \"20\", \"25\", \"27\", \"30\", \"31\", \"32\", \"33\", \"39\"], \"mode\": \"lines\", \"name\": \"AUC_micro_max\", \"stepped\": true, \"type\": \"scatter\", \"data\": [0.9973719444444444, 0.9985327777777778, 0.9985327777777778, 0.9985327777777778, 0.9990127777777777, 0.9990127777777777, 0.9990127777777777, 0.9990127777777777, 0.9990127777777777, 0.9990127777777777, 0.9990127777777777]}], \"precision_score_weighted\": [{\"categories\": [\"0\", \"4\", \"12\", \"20\", \"25\", \"27\", \"30\", \"31\", \"32\", \"33\", \"39\"], \"mode\": \"markers\", \"name\": \"precision_score_weighted\", \"stepped\": false, \"type\": \"scatter\", \"data\": [0.9698650238650239, 0.9851559829059828, 0.9727587967587968, 0.9020857491923282, 0.9851181041181041, 0.9780842213342213, 0.9656107503607503, 0.982011544011544, 0.9781449938949939, 0.9712209457209455, 0.9857411477411478]}, {\"categories\": [\"0\", \"4\", \"12\", \"20\", \"25\", \"27\", \"30\", \"31\", \"32\", \"33\", \"39\"], \"mode\": \"lines\", \"name\": \"precision_score_weighted_max\", \"stepped\": true, \"type\": \"scatter\", \"data\": [0.9698650238650239, 0.9851559829059828, 0.9851559829059828, 0.9851559829059828, 0.9851559829059828, 0.9851559829059828, 0.9851559829059828, 0.9851559829059828, 0.9851559829059828, 0.9851559829059828, 0.9857411477411478]}]}, \"metricName\": null, \"primaryMetricName\": \"accuracy\", \"showLegend\": false}, \"run_metrics\": [{\"name\": \"experiment_status\", \"run_id\": \"AutoML_459e811c-00f4-4099-a31f-a186a9f4de26\", \"categories\": [0, 1, 2, 3, 4, 5, 6, 7, 8, 9, 10, 11, 12, 13], \"series\": [{\"data\": [\"DatasetEvaluation\", \"FeaturesGeneration\", \"DatasetFeaturization\", \"DatasetFeaturizationCompleted\", \"DatasetCrossValidationSplit\", \"ModelSelection\", \"BestRunExplainModel\", \"ModelExplanationDataSetSetup\", \"PickSurrogateModel\", \"EngineeredFeatureExplanations\", \"EngineeredFeatureExplanations\", \"RawFeaturesExplanations\", \"RawFeaturesExplanations\", \"BestRunExplainModel\"]}]}, {\"name\": \"experiment_status_description\", \"run_id\": \"AutoML_459e811c-00f4-4099-a31f-a186a9f4de26\", \"categories\": [0, 1, 2, 3, 4, 5, 6, 7, 8, 9, 10, 11, 12, 13], \"series\": [{\"data\": [\"Gathering dataset statistics.\", \"Generating features for the dataset.\", \"Beginning to fit featurizers and featurize the dataset.\", \"Completed fit featurizers and featurizing the dataset.\", \"Generating individually featurized CV splits.\", \"Beginning model selection.\", \"Best run model explanations started\", \"Model explanations data setup completed\", \"Choosing LightGBM as the surrogate model for explanations\", \"Computation of engineered features started\", \"Computation of engineered features completed\", \"Computation of raw features started\", \"Computation of raw features completed\", \"Best run model explanations completed\"]}]}, {\"name\": \"balanced_accuracy\", \"run_id\": \"AutoML_459e811c-00f4-4099-a31f-a186a9f4de26\", \"categories\": [0], \"series\": [{\"data\": [0.9890460030165912]}]}, {\"name\": \"accuracy\", \"run_id\": \"AutoML_459e811c-00f4-4099-a31f-a186a9f4de26\", \"categories\": [0], \"series\": [{\"data\": [0.9878333333333333]}]}, {\"name\": \"f1_score_weighted\", \"run_id\": \"AutoML_459e811c-00f4-4099-a31f-a186a9f4de26\", \"categories\": [0], \"series\": [{\"data\": [0.9878831279547391]}]}, {\"name\": \"norm_macro_recall\", \"run_id\": \"AutoML_459e811c-00f4-4099-a31f-a186a9f4de26\", \"categories\": [0], \"series\": [{\"data\": [0.9780920060331825]}]}, {\"name\": \"f1_score_macro\", \"run_id\": \"AutoML_459e811c-00f4-4099-a31f-a186a9f4de26\", \"categories\": [0], \"series\": [{\"data\": [0.987369758970782]}]}, {\"name\": \"recall_score_weighted\", \"run_id\": \"AutoML_459e811c-00f4-4099-a31f-a186a9f4de26\", \"categories\": [0], \"series\": [{\"data\": [0.9878333333333333]}]}, {\"name\": \"weighted_accuracy\", \"run_id\": \"AutoML_459e811c-00f4-4099-a31f-a186a9f4de26\", \"categories\": [0], \"series\": [{\"data\": [0.9868641146780825]}]}, {\"name\": \"AUC_micro\", \"run_id\": \"AutoML_459e811c-00f4-4099-a31f-a186a9f4de26\", \"categories\": [0], \"series\": [{\"data\": [0.9988663888888889]}]}, {\"name\": \"average_precision_score_weighted\", \"run_id\": \"AutoML_459e811c-00f4-4099-a31f-a186a9f4de26\", \"categories\": [0], \"series\": [{\"data\": [0.9993333333333332]}]}, {\"name\": \"AUC_weighted\", \"run_id\": \"AutoML_459e811c-00f4-4099-a31f-a186a9f4de26\", \"categories\": [0], \"series\": [{\"data\": [0.9992647058823529]}]}, {\"name\": \"average_precision_score_macro\", \"run_id\": \"AutoML_459e811c-00f4-4099-a31f-a186a9f4de26\", \"categories\": [0], \"series\": [{\"data\": [0.9991421568627452]}]}, {\"name\": \"recall_score_macro\", \"run_id\": \"AutoML_459e811c-00f4-4099-a31f-a186a9f4de26\", \"categories\": [0], \"series\": [{\"data\": [0.9890460030165912]}]}, {\"name\": \"log_loss\", \"run_id\": \"AutoML_459e811c-00f4-4099-a31f-a186a9f4de26\", \"categories\": [0], \"series\": [{\"data\": [0.07515457073203993]}]}, {\"name\": \"recall_score_micro\", \"run_id\": \"AutoML_459e811c-00f4-4099-a31f-a186a9f4de26\", \"categories\": [0], \"series\": [{\"data\": [0.9878333333333333]}]}, {\"name\": \"f1_score_micro\", \"run_id\": \"AutoML_459e811c-00f4-4099-a31f-a186a9f4de26\", \"categories\": [0], \"series\": [{\"data\": [0.9878333333333333]}]}, {\"name\": \"AUC_macro\", \"run_id\": \"AutoML_459e811c-00f4-4099-a31f-a186a9f4de26\", \"categories\": [0], \"series\": [{\"data\": [0.9992647058823529]}]}, {\"name\": \"matthews_correlation\", \"run_id\": \"AutoML_459e811c-00f4-4099-a31f-a186a9f4de26\", \"categories\": [0], \"series\": [{\"data\": [0.9757602254844769]}]}, {\"name\": \"precision_score_macro\", \"run_id\": \"AutoML_459e811c-00f4-4099-a31f-a186a9f4de26\", \"categories\": [0], \"series\": [{\"data\": [0.9867521367521368]}]}, {\"name\": \"precision_score_micro\", \"run_id\": \"AutoML_459e811c-00f4-4099-a31f-a186a9f4de26\", \"categories\": [0], \"series\": [{\"data\": [0.9878333333333333]}]}, {\"name\": \"precision_score_weighted\", \"run_id\": \"AutoML_459e811c-00f4-4099-a31f-a186a9f4de26\", \"categories\": [0], \"series\": [{\"data\": [0.9889059829059829]}]}, {\"name\": \"average_precision_score_micro\", \"run_id\": \"AutoML_459e811c-00f4-4099-a31f-a186a9f4de26\", \"categories\": [0], \"series\": [{\"data\": [0.9989207407407406]}]}], \"run_logs\": \"\\nRun is completed.\", \"graph\": {}, \"widget_settings\": {\"childWidgetDisplay\": \"popup\", \"send_telemetry\": false, \"log_level\": \"INFO\", \"sdk_version\": \"1.42.0\"}, \"loading\": false}"
          },
          "metadata": {}
        }
      ],
      "execution_count": 9,
      "metadata": {
        "jupyter": {
          "source_hidden": false,
          "outputs_hidden": false
        },
        "nteract": {
          "transient": {
            "deleting": false
          }
        },
        "gather": {
          "logged": 1660293454977
        }
      }
    },
    {
      "cell_type": "markdown",
      "source": [
        "## Best Model\n",
        "\n",
        "TODO: In the cell below, get the best model from the automl experiments and display all the properties of the model.\n",
        "\n"
      ],
      "metadata": {}
    },
    {
      "cell_type": "code",
      "source": [
        "best_run, fitted_model = run.get_output()\n",
        "print(best_run)\n",
        "print(fitted_model)"
      ],
      "outputs": [
        {
          "output_type": "stream",
          "name": "stderr",
          "text": "WARNING:root:The version of the SDK does not match the version the model was trained on.\nWARNING:root:The consistency in the result may not be guaranteed.\nWARNING:root:Package:azureml-automl-core, training version:1.43.0.post2, current version:1.42.0\nPackage:azureml-automl-runtime, training version:1.43.0, current version:1.42.0\nPackage:azureml-core, training version:1.43.0, current version:1.42.0\nPackage:azureml-dataset-runtime, training version:1.43.0, current version:1.42.0\nPackage:azureml-defaults, training version:1.43.0, current version:1.42.0\nPackage:azureml-interpret, training version:1.43.0, current version:1.42.0\nPackage:azureml-mlflow, training version:1.43.0.post1, current version:1.42.0\nPackage:azureml-pipeline-core, training version:1.43.0, current version:1.42.0\nPackage:azureml-responsibleai, training version:1.43.0, current version:1.42.0\nPackage:azureml-telemetry, training version:1.43.0, current version:1.42.0\nPackage:azureml-train-automl-client, training version:1.43.0, current version:1.42.0\nPackage:azureml-train-automl-runtime, training version:1.43.0.post1, current version:1.42.0\nPackage:azureml-train-core, training version:1.43.0, current version:1.42.0\nPackage:azureml-train-restclients-hyperdrive, training version:1.43.0, current version:1.42.0\nPackage:azureml-training-tabular, training version:1.43.0, current version:1.42.0\nWARNING:root:Please ensure the version of your local conda dependencies match the version on which your model was trained in order to properly retrieve your model.\n"
        },
        {
          "output_type": "stream",
          "name": "stdout",
          "text": "Run(Experiment: automl_run,\nId: AutoML_459e811c-00f4-4099-a31f-a186a9f4de26_38,\nType: azureml.scriptrun,\nStatus: Completed)\nPipeline(memory=None,\n         steps=[('datatransformer',\n                 DataTransformer(enable_dnn=False, enable_feature_sweeping=True, feature_sweeping_config={}, feature_sweeping_timeout=86400, featurization_config=None, force_text_dnn=False, is_cross_validation=True, is_onnx_compatible=False, observer=None, task='classification', working_dir='/mnt/batch/tasks/shared/LS_root/mount...\n                 PreFittedSoftVotingClassifier(classification_labels=array([0, 1]), estimators=[('9', Pipeline(memory=None, steps=[('standardscalerwrapper', StandardScalerWrapper(copy=True, with_mean=False, with_std=False)), ('xgboostclassifier', XGBoostClassifier(booster='gbtree', colsample_bytree=0.5, eta=0.5, gamma=0, max_depth=6, max_leaves=3, n_estimators=10, n_jobs=1, objective='reg:logistic', problem_info=ProblemInfo(gpu_training_param_dict={'processing_unit_type': 'cpu'}), random_state=0, reg_alpha=0.7291666666666667, reg_lambda=2.3958333333333335, subsample=0.8, tree_method='auto'))], verbose=False)), ('4', Pipeline(memory=None, steps=[('maxabsscaler', MaxAbsScaler(copy=True)), ('lightgbmclassifier', LightGBMClassifier(boosting_type='gbdt', colsample_bytree=0.6933333333333332, learning_rate=0.09473736842105263, max_bin=110, max_depth=8, min_child_weight=6, min_data_in_leaf=0.003457931034482759, min_split_gain=1, n_estimators=25, n_jobs=1, num_leaves=227, problem_info=ProblemInfo(gpu_training_param_dict={'processing_unit_type': 'cpu'}), random_state=None, reg_alpha=0.9473684210526315, reg_lambda=0.42105263157894735, subsample=0.49526315789473685))], verbose=False)), ('1', Pipeline(memory=None, steps=[('maxabsscaler', MaxAbsScaler(copy=True)), ('xgboostclassifier', XGBoostClassifier(n_jobs=1, problem_info=ProblemInfo(gpu_training_param_dict={'processing_unit_type': 'cpu'}), random_state=0, tree_method='auto'))], verbose=False)), ('25', Pipeline(memory=None, steps=[('standardscalerwrapper', StandardScalerWrapper(copy=True, with_mean=False, with_std=False)), ('randomforestclassifier', RandomForestClassifier(bootstrap=False, ccp_alpha=0.0, class_weight=None, criterion='entropy', max_depth=None, max_features='log2', max_leaf_nodes=None, max_samples=None, min_impurity_decrease=0.0, min_impurity_split=None, min_samples_leaf=0.035789473684210524, min_samples_split=0.056842105263157895, min_weight_fraction_leaf=0.0, n_estimators=10, n_jobs=1, oob_score=False, random_state=None, verbose=0, warm_start=False))], verbose=False)), ('29', Pipeline(memory=None, steps=[('maxabsscaler', MaxAbsScaler(copy=True)), ('lightgbmclassifier', LightGBMClassifier(boosting_type='goss', colsample_bytree=0.5944444444444444, learning_rate=0.1, max_bin=330, max_depth=8, min_child_weight=6, min_data_in_leaf=0.07586448275862069, min_split_gain=0.894736842105263, n_estimators=25, n_jobs=1, num_leaves=230, problem_info=ProblemInfo(gpu_training_param_dict={'processing_unit_type': 'cpu'}), random_state=None, reg_alpha=0.5263157894736842, reg_lambda=0, subsample=1))], verbose=False))], flatten_transform=None, weights=[0.16666666666666666, 0.16666666666666666, 0.16666666666666666, 0.3333333333333333, 0.16666666666666666]))],\n         verbose=False)\n"
        }
      ],
      "execution_count": 10,
      "metadata": {
        "gather": {
          "logged": 1660293458765
        },
        "jupyter": {
          "outputs_hidden": false,
          "source_hidden": false
        },
        "nteract": {
          "transient": {
            "deleting": false
          }
        }
      }
    },
    {
      "cell_type": "code",
      "source": [
        "#TODO: Save the best model\n",
        "joblib.dump(fitted_model,filename='automl_model.joblib')"
      ],
      "outputs": [
        {
          "output_type": "execute_result",
          "execution_count": 11,
          "data": {
            "text/plain": "['automl_model.joblib']"
          },
          "metadata": {}
        }
      ],
      "execution_count": 11,
      "metadata": {
        "gather": {
          "logged": 1660293459033
        },
        "jupyter": {
          "outputs_hidden": false,
          "source_hidden": false
        },
        "nteract": {
          "transient": {
            "deleting": false
          }
        }
      }
    },
    {
      "cell_type": "code",
      "source": [
        "model_name = best_run.properties['model_name']\n",
        "model_name"
      ],
      "outputs": [
        {
          "output_type": "execute_result",
          "execution_count": 12,
          "data": {
            "text/plain": "'AutoML459e811c038'"
          },
          "metadata": {}
        }
      ],
      "execution_count": 12,
      "metadata": {
        "gather": {
          "logged": 1660293459276
        },
        "jupyter": {
          "outputs_hidden": false,
          "source_hidden": false
        },
        "nteract": {
          "transient": {
            "deleting": false
          }
        }
      }
    },
    {
      "cell_type": "markdown",
      "source": [
        "## Model Deployment\n",
        "\n",
        "Remember you have to deploy only one of the two models you trained but you still need to register both the models. Perform the steps in the rest of this notebook only if you wish to deploy this model.\n",
        "\n",
        "TODO: In the cell below, register the model, create an inference config and deploy the model as a web service."
      ],
      "metadata": {}
    },
    {
      "cell_type": "code",
      "source": [
        "env = best_run.get_environment().save_to_directory(path='environment')\n",
        "script_file= 'score.py'\n",
        "best_run.download_file('outputs/scoring_file_v_1_0_0.py', script_file)\n",
        "\n",
        "model = run.register_model(model_name = model_name)\n",
        "print(model.name, model.id, model.version, sep='\\t')"
      ],
      "outputs": [
        {
          "output_type": "stream",
          "name": "stdout",
          "text": "AutoML459e811c038\tAutoML459e811c038:1\t1\n"
        }
      ],
      "execution_count": 14,
      "metadata": {
        "gather": {
          "logged": 1660293534832
        }
      }
    },
    {
      "cell_type": "markdown",
      "source": [
        "TODO: In the cell below, send a request to the web service you deployed to test it."
      ],
      "metadata": {
        "collapsed": true,
        "gather": {
          "logged": 1598431657736
        },
        "jupyter": {
          "outputs_hidden": false,
          "source_hidden": false
        },
        "nteract": {
          "transient": {
            "deleting": false
          }
        }
      }
    },
    {
      "cell_type": "code",
      "source": [
        "inference_config = InferenceConfig(entry_script=script_file, environment=env)\n",
        "\n",
        "# create deployment config i.e. compute resources\n",
        "aciconfig = AciWebservice.deploy_configuration(\n",
        "    cpu_cores=1,\n",
        "    memory_gb=1,\n",
        ")\n",
        "service_name = \"automlfire\"\n",
        "service = Model.deploy(\n",
        "    workspace=ws,\n",
        "    name=service_name,\n",
        "    models=[model],\n",
        "    inference_config=inference_config,\n",
        "    deployment_config=aciconfig,\n",
        ")\n",
        "\n",
        "service.wait_for_deployment(True)"
      ],
      "outputs": [
        {
          "output_type": "stream",
          "name": "stdout",
          "text": "Tips: You can try get_logs(): https://aka.ms/debugimage#dockerlog or local deployment: https://aka.ms/debugimage#debug-locally to debug if deployment takes longer than 10 minutes.\nRunning\n2022-08-12 08:38:58+00:00 Creating Container Registry if not exists.\n2022-08-12 08:38:59+00:00 Use the existing image.\n2022-08-12 08:39:00+00:00 Submitting deployment to compute.\n2022-08-12 08:39:04+00:00 Checking the status of deployment automlfire..\n2022-08-12 08:41:42+00:00 Checking the status of inference endpoint automlfire.\nSucceeded\nACI service creation operation finished, operation \"Succeeded\"\n"
        }
      ],
      "execution_count": 15,
      "metadata": {
        "gather": {
          "logged": 1660293704970
        },
        "jupyter": {
          "outputs_hidden": false,
          "source_hidden": false
        },
        "nteract": {
          "transient": {
            "deleting": false
          }
        }
      }
    },
    {
      "cell_type": "code",
      "source": [
        "service.get_logs()"
      ],
      "outputs": [
        {
          "output_type": "execute_result",
          "execution_count": 16,
          "data": {
            "text/plain": "'2022-08-12T08:41:23,594911600+00:00 - rsyslog/run \\n2022-08-12T08:41:23,611732400+00:00 - nginx/run \\n2022-08-12T08:41:23,612742700+00:00 - iot-server/run \\n2022-08-12T08:41:23,630934500+00:00 - gunicorn/run \\n2022-08-12T08:41:23,640852300+00:00 | gunicorn/run | \\n2022-08-12T08:41:23,657412600+00:00 | gunicorn/run | ###############################################\\n2022-08-12T08:41:23,679728000+00:00 | gunicorn/run | AzureML Container Runtime Information\\n2022-08-12T08:41:23,696098000+00:00 | gunicorn/run | ###############################################\\n2022-08-12T08:41:23,700644300+00:00 | gunicorn/run | \\n2022-08-12T08:41:23,707441200+00:00 | gunicorn/run | \\n2022-08-12T08:41:23,714614500+00:00 | gunicorn/run | AzureML image information: openmpi3.1.2-ubuntu18.04, Materializaton Build:20220708.v2\\n2022-08-12T08:41:23,721708300+00:00 | gunicorn/run | \\n2022-08-12T08:41:23,723674000+00:00 | gunicorn/run | \\n2022-08-12T08:41:23,730508100+00:00 | gunicorn/run | PATH environment variable: /azureml-envs/azureml_9a0a3018d5bd283ce8b2a7a42f59a7d1/bin:/opt/miniconda/bin:/usr/local/sbin:/usr/local/bin:/usr/sbin:/usr/bin:/sbin:/bin\\n2022-08-12T08:41:23,732686200+00:00 | gunicorn/run | PYTHONPATH environment variable: \\n2022-08-12T08:41:23,738645800+00:00 | gunicorn/run | \\n2022-08-12T08:41:23,742647800+00:00 | gunicorn/run | Pip Dependencies (before dynamic installation)\\n\\nEdgeHubConnectionString and IOTEDGE_IOTHUBHOSTNAME are not set. Exiting...\\n2022-08-12T08:41:24,093184200+00:00 - iot-server/finish 1 0\\n2022-08-12T08:41:24,099871200+00:00 - Exit code 1 is normal. Not restarting iot-server.\\nadal==1.2.7\\napplicationinsights==0.11.10\\nargcomplete==2.0.0\\narviz @ file:///tmp/build/80754af9/arviz_1614019183254/work\\nattrs==21.4.0\\nazure-common==1.1.28\\nazure-core==1.24.2\\nazure-graphrbac==0.61.1\\nazure-identity==1.10.0\\nazure-mgmt-authorization==2.0.0\\nazure-mgmt-containerregistry==10.0.0\\nazure-mgmt-core==1.3.0\\nazure-mgmt-keyvault==10.0.0\\nazure-mgmt-resource==21.1.0\\nazure-mgmt-storage==20.0.0\\nazure-storage-blob==12.9.0\\nazure-storage-queue==12.4.0\\nazureml-automl-core==1.43.0.post2\\nazureml-automl-runtime==1.43.0\\nazureml-core==1.43.0\\nazureml-dataprep==4.0.4\\nazureml-dataprep-native==38.0.0\\nazureml-dataprep-rslex==2.6.3\\nazureml-dataset-runtime==1.43.0\\nazureml-defaults==1.43.0\\nazureml-inference-server-http==0.4.13\\nazureml-interpret==1.43.0\\nazureml-mlflow==1.43.0.post1\\nazureml-pipeline-core==1.43.0\\nazureml-responsibleai==1.43.0\\nazureml-telemetry==1.43.0\\nazureml-train-automl-client==1.43.0\\nazureml-train-automl-runtime==1.43.0.post1\\nazureml-train-core==1.43.0\\nazureml-train-restclients-hyperdrive==1.43.0\\nazureml-training-tabular==1.43.0\\nbackcall==0.2.0\\nbackports.tempfile==1.0\\nbackports.weakref==1.0.post1\\nbcrypt==3.2.2\\nbokeh==2.4.3\\nboto==2.49.0\\nboto3==1.15.18\\nbotocore==1.18.18\\ncachetools==5.2.0\\ncertifi @ file:///opt/conda/conda-bld/certifi_1655968806487/work/certifi\\ncffi==1.15.1\\ncftime @ file:///tmp/build/80754af9/cftime_1638345281172/work\\ncharset-normalizer==2.1.0\\nclick==7.1.2\\ncloudpickle==1.6.0\\nconfigparser==3.7.4\\ncontextlib2==21.6.0\\nconvertdate @ file:///tmp/build/80754af9/convertdate_1634070773133/work\\ncryptography==37.0.4\\ncycler @ file:///tmp/build/80754af9/cycler_1637851556182/work\\nCython @ file:///tmp/build/80754af9/cython_1647850341668/work\\ndask==2.30.0\\ndatabricks-cli==0.17.0\\ndataclasses==0.6\\ndebugpy==1.6.2\\ndecorator==5.1.1\\ndice-ml==0.8\\ndill==0.3.5.1\\ndistributed==2.30.1\\ndistro==1.7.0\\ndocker==5.0.3\\ndotnetcore2==3.1.23\\ndowhy==0.7.1\\neconml==0.12.0\\nentrypoints==0.4\\nephem @ file:///tmp/build/80754af9/ephem_1638960312619/work\\nerroranalysis==0.3.4\\nfairlearn==0.7.0\\nfbprophet @ file:///home/conda/feedstock_root/build_artifacts/fbprophet_1599365534439/work\\nfire==0.4.0\\nFlask==1.0.3\\nflatbuffers==2.0\\nfonttools==4.25.0\\nfsspec==2022.5.0\\ngensim==3.8.3\\ngitdb==4.0.9\\nGitPython==3.1.27\\ngoogle-api-core==2.8.2\\ngoogle-auth==2.9.0\\ngoogleapis-common-protos==1.56.3\\ngunicorn==20.1.0\\nh5py==3.7.0\\nHeapDict==1.0.1\\nholidays @ file:///home/conda/feedstock_root/build_artifacts/holidays_1595448845196/work\\nhumanfriendly==10.0\\nidna==3.3\\nimportlib-metadata==4.12.0\\nimportlib-resources==5.8.0\\ninference-schema==1.4.1\\ninterpret-community==0.26.0\\ninterpret-core==0.2.7\\nipykernel==6.6.0\\nipython==7.34.0\\nisodate==0.6.1\\nitsdangerous==1.1.0\\njedi==0.18.1\\njeepney==0.8.0\\nJinja2==2.11.2\\njmespath==1.0.0\\njoblib==0.14.1\\njson-logging-py==0.2\\njsonpickle==2.2.0\\njsonschema==4.7.2\\njupyter-client==7.3.4\\njupyter-core==4.11.1\\nkeras2onnx==1.6.0\\nkiwisolver @ file:///opt/conda/conda-bld/kiwisolver_1653292039266/work\\nknack==0.9.0\\nkorean-lunar-calendar @ file:///tmp/build/80754af9/korean_lunar_calendar_1634063020401/work\\nlightgbm==3.2.1\\nllvmlite==0.36.0\\nlocket==1.0.0\\nLunarCalendar @ file:///tmp/build/80754af9/lunarcalendar_1646383991234/work\\nMarkupSafe==2.0.1\\nmatplotlib @ file:///tmp/build/80754af9/matplotlib-suite_1634667019719/work\\nmatplotlib-inline==0.1.3\\nmkl-fft==1.3.0\\nmkl-random==1.1.0\\nmkl-service==2.3.0\\nml-wrappers==0.2.0\\nmlflow-skinny==1.27.0\\nmpi4py==3.1.3\\nmpmath==1.2.1\\nmsal==1.18.0\\nmsal-extensions==1.0.0\\nmsgpack==1.0.4\\nmsrest==0.6.21\\nmsrestazure==0.6.4\\nmunkres==1.1.4\\nndg-httpsclient==0.5.1\\nnest-asyncio==1.5.5\\nnetCDF4==1.5.7\\nnetworkx==2.5\\nnimbusml==1.8.0\\nnumba==0.53.1\\nnumpy==1.18.5\\noauthlib==3.2.0\\nonnx==1.7.0\\nonnxconverter-common==1.6.0\\nonnxmltools==1.4.1\\nonnxruntime==1.8.1\\nopencensus==0.10.0\\nopencensus-context==0.1.2\\nopencensus-ext-azure==1.1.5\\npackaging @ file:///tmp/build/80754af9/packaging_1637314298585/work\\npandas==1.1.5\\nparamiko==2.11.0\\nparso==0.8.3\\npartd==1.2.0\\npathspec==0.9.0\\npatsy==0.5.2\\npexpect==4.8.0\\npickleshare==0.7.5\\nPillow==9.0.1\\npkginfo==1.8.3\\npmdarima==1.7.1\\nportalocker==2.5.1\\nprompt-toolkit==3.0.30\\nprotobuf==3.20.1\\npsutil @ file:///tmp/build/80754af9/psutil_1612298016854/work\\nptyprocess==0.7.0\\npy-cpuinfo==5.0.0\\npyarrow==3.0.0\\npyasn1==0.4.8\\npyasn1-modules==0.2.8\\npycparser==2.21\\npydot==1.4.2\\nPygments==2.12.0\\nPyJWT==2.4.0\\nPyMeeus @ file:///tmp/build/80754af9/pymeeus_1634069098549/work\\nPyNaCl==1.5.0\\npyOpenSSL==22.0.0\\npyparsing @ file:///tmp/build/80754af9/pyparsing_1635766073266/work\\npyrsistent==0.18.1\\nPySocks==1.7.1\\npystan @ file:///tmp/build/80754af9/pystan_1613565226242/work\\npython-dateutil @ file:///tmp/build/80754af9/python-dateutil_1626374649649/work\\npytz @ file:///opt/conda/conda-bld/pytz_1654762638606/work\\nPyYAML==6.0\\npyzmq==23.2.0\\nraiutils==0.2.0\\nrequests==2.28.1\\nrequests-oauthlib==1.3.1\\nresponsibleai==0.19.0\\nrsa==4.8\\ns3transfer==0.3.7\\nscikit-learn==0.22.1\\nscipy==1.5.3\\nSecretStorage==3.3.2\\nsemver==2.13.0\\nsetuptools-git==1.2\\nshap==0.39.0\\nsix @ file:///tmp/build/80754af9/six_1644875935023/work\\nskl2onnx==1.4.9\\nsklearn-pandas==1.7.0\\nslicer==0.0.7\\nsmart-open==1.9.0\\nsmmap==5.0.0\\nsortedcontainers==2.4.0\\nsparse==0.13.0\\nstatsmodels==0.11.1\\nsympy==1.10.1\\ntabulate==0.8.10\\ntblib==1.7.0\\ntermcolor==1.1.0\\ntoolz==0.12.0\\ntornado @ file:///tmp/build/80754af9/tornado_1606942283357/work\\ntqdm @ file:///opt/conda/conda-bld/tqdm_1650891076910/work\\ntraitlets==5.3.0\\ntyping-extensions @ file:///opt/conda/conda-bld/typing_extensions_1647553014482/work\\nurllib3==1.26.9\\nwcwidth==0.2.5\\nwebsocket-client==1.3.3\\nWerkzeug==1.0.1\\nwrapt==1.12.1\\nxarray @ file:///opt/conda/conda-bld/xarray_1639166117697/work\\nxgboost==1.3.3\\nzict==2.2.0\\nzipp==3.8.1\\n\\n2022-08-12T08:41:25,588829300+00:00 | gunicorn/run | \\n2022-08-12T08:41:25,598322000+00:00 | gunicorn/run | ###############################################\\n2022-08-12T08:41:25,601096300+00:00 | gunicorn/run | AzureML Inference Server\\n2022-08-12T08:41:25,604234500+00:00 | gunicorn/run | ###############################################\\n2022-08-12T08:41:25,615080200+00:00 | gunicorn/run | \\n2022-08-12T08:41:29,462965500+00:00 | gunicorn/run | Starting AzureML Inference Server HTTP.\\n\\nAzure ML Inferencing HTTP server v0.4.13\\n\\n\\nServer Settings\\n---------------\\nEntry Script Name: main.py\\nModel Directory: /var/azureml-app/azureml-models/AutoML459e811c038/1\\nWorker Count: 1\\nWorker Timeout (seconds): 300\\nServer Port: 31311\\nApplication Insights Enabled: false\\nApplication Insights Key: None\\n\\n\\nServer Routes\\n---------------\\nLiveness Probe: GET   127.0.0.1:31311/\\nScore:          POST  127.0.0.1:31311/score\\n\\nStarting gunicorn 20.1.0\\nListening at: http://0.0.0.0:31311 (77)\\nUsing worker: sync\\nBooting worker with pid: 130\\nInitializing logger\\n2022-08-12 08:41:31,742 | root | INFO | Starting up app insights client\\nlogging socket was found. logging is available.\\nlogging socket was found. logging is available.\\n2022-08-12 08:41:31,746 | root | INFO | Starting up request id generator\\n2022-08-12 08:41:31,746 | root | INFO | Starting up app insight hooks\\n2022-08-12 08:41:31,746 | root | INFO | Invoking user\\'s init function\\n2022-08-12 08:41:40,155 | azureml.core | WARNING | Failure while loading azureml_run_type_providers. Failed to load entrypoint automl = azureml.train.automl.run:AutoMLRun._from_run_dto with exception (azure-identity 1.10.0 (/azureml-envs/azureml_9a0a3018d5bd283ce8b2a7a42f59a7d1/lib/python3.7/site-packages), Requirement.parse(\\'azure-identity==1.7.0\\'), {\\'azureml-dataprep\\'}).\\nFailure while loading azureml_run_type_providers. Failed to load entrypoint automl = azureml.train.automl.run:AutoMLRun._from_run_dto with exception (azure-identity 1.10.0 (/azureml-envs/azureml_9a0a3018d5bd283ce8b2a7a42f59a7d1/lib/python3.7/site-packages), Requirement.parse(\\'azure-identity==1.7.0\\'), {\\'azureml-dataprep\\'}).\\n2022-08-12 08:41:41,895 | root | INFO | Users\\'s init has completed successfully\\n2022-08-12 08:41:41,926 | root | INFO | Skipping middleware: dbg_model_info as it\\'s not enabled.\\n2022-08-12 08:41:41,927 | root | INFO | Skipping middleware: dbg_resource_usage as it\\'s not enabled.\\nGenerating swagger file: /tmp/tmpmvenegjf\\n2022-08-12 08:41:41,937 | root | INFO | Scoring timeout is found from os.environ: 60000 ms\\n2022-08-12 08:41:42,472 | root | INFO | 200\\n127.0.0.1 - - [12/Aug/2022:08:41:42 +0000] \"GET /swagger.json HTTP/1.0\" 200 2962 \"-\" \"Go-http-client/1.1\"\\n2022-08-12 08:41:44,312 | root | INFO | 200\\n127.0.0.1 - - [12/Aug/2022:08:41:44 +0000] \"GET /swagger.json HTTP/1.0\" 200 2962 \"-\" \"Go-http-client/1.1\"\\n'"
          },
          "metadata": {}
        }
      ],
      "execution_count": 16,
      "metadata": {
        "gather": {
          "logged": 1660293705417
        },
        "jupyter": {
          "outputs_hidden": false,
          "source_hidden": false
        },
        "nteract": {
          "transient": {
            "deleting": false
          }
        }
      }
    },
    {
      "cell_type": "code",
      "source": [
        "service.update(enable_app_insights=True)"
      ],
      "outputs": [],
      "execution_count": 17,
      "metadata": {
        "jupyter": {
          "source_hidden": false,
          "outputs_hidden": false
        },
        "nteract": {
          "transient": {
            "deleting": false
          }
        },
        "gather": {
          "logged": 1660293707328
        }
      }
    },
    {
      "cell_type": "code",
      "source": [
        "# send raw HTTP request to test the web service.\n",
        "\n",
        "data = {\"data\": [{\"day\": 4, \"month\": 6, \"year\": 2012, \"Temperature\": 25, \"RH\": 89, \"Ws\": 13, \"Rain\": 2.5, \"FFMC\": 28.6, \"DMC\": 1.3, \"DC\": 6.9, \"ISI\": 0.0, \"BUI\": 1.7, \"FWI\": 0.0}]}\n",
        "input_data = json.dumps(data)\n",
        "                 \n",
        "headers = {\"Content-Type\": \"application/json\"}\n",
        "\n",
        "resp = requests.post(service.scoring_uri, input_data, headers=headers)\n",
        "\n",
        "print(\"POST to url\", service.scoring_uri)\n",
        "print(\"prediction:\", resp.text)\n",
        "print(resp.json())"
      ],
      "outputs": [
        {
          "output_type": "stream",
          "name": "stdout",
          "text": "POST to url http://76fd5ea9-7b29-4e6c-a6e1-4c34cac6a03d.southcentralus.azurecontainer.io/score\nprediction: \"{\\\"result\\\": [0]}\"\n{\"result\": [0]}\n"
        }
      ],
      "execution_count": 18,
      "metadata": {
        "gather": {
          "logged": 1660293709901
        },
        "jupyter": {
          "outputs_hidden": false,
          "source_hidden": false
        },
        "nteract": {
          "transient": {
            "deleting": false
          }
        }
      }
    },
    {
      "cell_type": "markdown",
      "source": [
        "TODO: In the cell below, print the logs of the web service and delete the service"
      ],
      "metadata": {
        "collapsed": true,
        "gather": {
          "logged": 1598432765711
        },
        "jupyter": {
          "outputs_hidden": false,
          "source_hidden": false
        },
        "nteract": {
          "transient": {
            "deleting": false
          }
        }
      }
    },
    {
      "cell_type": "code",
      "source": [
        "logs = service.get_logs()\r\n",
        "print(logs)"
      ],
      "outputs": [
        {
          "output_type": "stream",
          "name": "stdout",
          "text": "2022-08-12T08:44:46,825972397+00:00 - rsyslog/run \n2022-08-12T08:44:46,826743388+00:00 - iot-server/run \n2022-08-12T08:44:46,844953674+00:00 - nginx/run \n2022-08-12T08:44:46,853084078+00:00 - gunicorn/run \n2022-08-12T08:44:46,859664900+00:00 | gunicorn/run | \n2022-08-12T08:44:46,878737976+00:00 | gunicorn/run | ###############################################\n2022-08-12T08:44:46,884034113+00:00 | gunicorn/run | AzureML Container Runtime Information\n2022-08-12T08:44:46,908225828+00:00 | gunicorn/run | ###############################################\n2022-08-12T08:44:46,934158023+00:00 | gunicorn/run | \n2022-08-12T08:44:46,959146929+00:00 | gunicorn/run | \n2022-08-12T08:44:46,973956354+00:00 | gunicorn/run | AzureML image information: openmpi3.1.2-ubuntu18.04, Materializaton Build:20220708.v2\n2022-08-12T08:44:46,981093170+00:00 | gunicorn/run | \n2022-08-12T08:44:46,989227275+00:00 | gunicorn/run | \n2022-08-12T08:44:46,991512048+00:00 | gunicorn/run | PATH environment variable: /azureml-envs/azureml_9a0a3018d5bd283ce8b2a7a42f59a7d1/bin:/opt/miniconda/bin:/usr/local/sbin:/usr/local/bin:/usr/sbin:/usr/bin:/sbin:/bin\n2022-08-12T08:44:46,994524512+00:00 | gunicorn/run | PYTHONPATH environment variable: \n2022-08-12T08:44:47,000555441+00:00 | gunicorn/run | \n2022-08-12T08:44:47,002662216+00:00 | gunicorn/run | Pip Dependencies (before dynamic installation)\n\nEdgeHubConnectionString and IOTEDGE_IOTHUBHOSTNAME are not set. Exiting...\n2022-08-12T08:44:47,264978527+00:00 - iot-server/finish 1 0\n2022-08-12T08:44:47,272476439+00:00 - Exit code 1 is normal. Not restarting iot-server.\nadal==1.2.7\napplicationinsights==0.11.10\nargcomplete==2.0.0\narviz @ file:///tmp/build/80754af9/arviz_1614019183254/work\nattrs==21.4.0\nazure-common==1.1.28\nazure-core==1.24.2\nazure-graphrbac==0.61.1\nazure-identity==1.10.0\nazure-mgmt-authorization==2.0.0\nazure-mgmt-containerregistry==10.0.0\nazure-mgmt-core==1.3.0\nazure-mgmt-keyvault==10.0.0\nazure-mgmt-resource==21.1.0\nazure-mgmt-storage==20.0.0\nazure-storage-blob==12.9.0\nazure-storage-queue==12.4.0\nazureml-automl-core==1.43.0.post2\nazureml-automl-runtime==1.43.0\nazureml-core==1.43.0\nazureml-dataprep==4.0.4\nazureml-dataprep-native==38.0.0\nazureml-dataprep-rslex==2.6.3\nazureml-dataset-runtime==1.43.0\nazureml-defaults==1.43.0\nazureml-inference-server-http==0.4.13\nazureml-interpret==1.43.0\nazureml-mlflow==1.43.0.post1\nazureml-pipeline-core==1.43.0\nazureml-responsibleai==1.43.0\nazureml-telemetry==1.43.0\nazureml-train-automl-client==1.43.0\nazureml-train-automl-runtime==1.43.0.post1\nazureml-train-core==1.43.0\nazureml-train-restclients-hyperdrive==1.43.0\nazureml-training-tabular==1.43.0\nbackcall==0.2.0\nbackports.tempfile==1.0\nbackports.weakref==1.0.post1\nbcrypt==3.2.2\nbokeh==2.4.3\nboto==2.49.0\nboto3==1.15.18\nbotocore==1.18.18\ncachetools==5.2.0\ncertifi @ file:///opt/conda/conda-bld/certifi_1655968806487/work/certifi\ncffi==1.15.1\ncftime @ file:///tmp/build/80754af9/cftime_1638345281172/work\ncharset-normalizer==2.1.0\nclick==7.1.2\ncloudpickle==1.6.0\nconfigparser==3.7.4\ncontextlib2==21.6.0\nconvertdate @ file:///tmp/build/80754af9/convertdate_1634070773133/work\ncryptography==37.0.4\ncycler @ file:///tmp/build/80754af9/cycler_1637851556182/work\nCython @ file:///tmp/build/80754af9/cython_1647850341668/work\ndask==2.30.0\ndatabricks-cli==0.17.0\ndataclasses==0.6\ndebugpy==1.6.2\ndecorator==5.1.1\ndice-ml==0.8\ndill==0.3.5.1\ndistributed==2.30.1\ndistro==1.7.0\ndocker==5.0.3\ndotnetcore2==3.1.23\ndowhy==0.7.1\neconml==0.12.0\nentrypoints==0.4\nephem @ file:///tmp/build/80754af9/ephem_1638960312619/work\nerroranalysis==0.3.4\nfairlearn==0.7.0\nfbprophet @ file:///home/conda/feedstock_root/build_artifacts/fbprophet_1599365534439/work\nfire==0.4.0\nFlask==1.0.3\nflatbuffers==2.0\nfonttools==4.25.0\nfsspec==2022.5.0\ngensim==3.8.3\ngitdb==4.0.9\nGitPython==3.1.27\ngoogle-api-core==2.8.2\ngoogle-auth==2.9.0\ngoogleapis-common-protos==1.56.3\ngunicorn==20.1.0\nh5py==3.7.0\nHeapDict==1.0.1\nholidays @ file:///home/conda/feedstock_root/build_artifacts/holidays_1595448845196/work\nhumanfriendly==10.0\nidna==3.3\nimportlib-metadata==4.12.0\nimportlib-resources==5.8.0\ninference-schema==1.4.1\ninterpret-community==0.26.0\ninterpret-core==0.2.7\nipykernel==6.6.0\nipython==7.34.0\nisodate==0.6.1\nitsdangerous==1.1.0\njedi==0.18.1\njeepney==0.8.0\nJinja2==2.11.2\njmespath==1.0.0\njoblib==0.14.1\njson-logging-py==0.2\njsonpickle==2.2.0\njsonschema==4.7.2\njupyter-client==7.3.4\njupyter-core==4.11.1\nkeras2onnx==1.6.0\nkiwisolver @ file:///opt/conda/conda-bld/kiwisolver_1653292039266/work\nknack==0.9.0\nkorean-lunar-calendar @ file:///tmp/build/80754af9/korean_lunar_calendar_1634063020401/work\nlightgbm==3.2.1\nllvmlite==0.36.0\nlocket==1.0.0\nLunarCalendar @ file:///tmp/build/80754af9/lunarcalendar_1646383991234/work\nMarkupSafe==2.0.1\nmatplotlib @ file:///tmp/build/80754af9/matplotlib-suite_1634667019719/work\nmatplotlib-inline==0.1.3\nmkl-fft==1.3.0\nmkl-random==1.1.0\nmkl-service==2.3.0\nml-wrappers==0.2.0\nmlflow-skinny==1.27.0\nmpi4py==3.1.3\nmpmath==1.2.1\nmsal==1.18.0\nmsal-extensions==1.0.0\nmsgpack==1.0.4\nmsrest==0.6.21\nmsrestazure==0.6.4\nmunkres==1.1.4\nndg-httpsclient==0.5.1\nnest-asyncio==1.5.5\nnetCDF4==1.5.7\nnetworkx==2.5\nnimbusml==1.8.0\nnumba==0.53.1\nnumpy==1.18.5\noauthlib==3.2.0\nonnx==1.7.0\nonnxconverter-common==1.6.0\nonnxmltools==1.4.1\nonnxruntime==1.8.1\nopencensus==0.10.0\nopencensus-context==0.1.2\nopencensus-ext-azure==1.1.5\npackaging @ file:///tmp/build/80754af9/packaging_1637314298585/work\npandas==1.1.5\nparamiko==2.11.0\nparso==0.8.3\npartd==1.2.0\npathspec==0.9.0\npatsy==0.5.2\npexpect==4.8.0\npickleshare==0.7.5\nPillow==9.0.1\npkginfo==1.8.3\npmdarima==1.7.1\nportalocker==2.5.1\nprompt-toolkit==3.0.30\nprotobuf==3.20.1\npsutil @ file:///tmp/build/80754af9/psutil_1612298016854/work\nptyprocess==0.7.0\npy-cpuinfo==5.0.0\npyarrow==3.0.0\npyasn1==0.4.8\npyasn1-modules==0.2.8\npycparser==2.21\npydot==1.4.2\nPygments==2.12.0\nPyJWT==2.4.0\nPyMeeus @ file:///tmp/build/80754af9/pymeeus_1634069098549/work\nPyNaCl==1.5.0\npyOpenSSL==22.0.0\npyparsing @ file:///tmp/build/80754af9/pyparsing_1635766073266/work\npyrsistent==0.18.1\nPySocks==1.7.1\npystan @ file:///tmp/build/80754af9/pystan_1613565226242/work\npython-dateutil @ file:///tmp/build/80754af9/python-dateutil_1626374649649/work\npytz @ file:///opt/conda/conda-bld/pytz_1654762638606/work\nPyYAML==6.0\npyzmq==23.2.0\nraiutils==0.2.0\nrequests==2.28.1\nrequests-oauthlib==1.3.1\nresponsibleai==0.19.0\nrsa==4.8\ns3transfer==0.3.7\nscikit-learn==0.22.1\nscipy==1.5.3\nSecretStorage==3.3.2\nsemver==2.13.0\nsetuptools-git==1.2\nshap==0.39.0\nsix @ file:///tmp/build/80754af9/six_1644875935023/work\nskl2onnx==1.4.9\nsklearn-pandas==1.7.0\nslicer==0.0.7\nsmart-open==1.9.0\nsmmap==5.0.0\nsortedcontainers==2.4.0\nsparse==0.13.0\nstatsmodels==0.11.1\nsympy==1.10.1\ntabulate==0.8.10\ntblib==1.7.0\ntermcolor==1.1.0\ntoolz==0.12.0\ntornado @ file:///tmp/build/80754af9/tornado_1606942283357/work\ntqdm @ file:///opt/conda/conda-bld/tqdm_1650891076910/work\ntraitlets==5.3.0\ntyping-extensions @ file:///opt/conda/conda-bld/typing_extensions_1647553014482/work\nurllib3==1.26.9\nwcwidth==0.2.5\nwebsocket-client==1.3.3\nWerkzeug==1.0.1\nwrapt==1.12.1\nxarray @ file:///opt/conda/conda-bld/xarray_1639166117697/work\nxgboost==1.3.3\nzict==2.2.0\nzipp==3.8.1\n\n2022-08-12T08:44:48,925598370+00:00 | gunicorn/run | \n2022-08-12T08:44:48,933136182+00:00 | gunicorn/run | ###############################################\n2022-08-12T08:44:48,935801950+00:00 | gunicorn/run | AzureML Inference Server\n2022-08-12T08:44:48,941454284+00:00 | gunicorn/run | ###############################################\n2022-08-12T08:44:48,945790633+00:00 | gunicorn/run | \n2022-08-12T08:44:52,663532239+00:00 | gunicorn/run | Starting AzureML Inference Server HTTP.\nValid Application Insights instrumentation key provided.\n\nAzure ML Inferencing HTTP server v0.4.13\n\n\nServer Settings\n---------------\nEntry Script Name: main.py\nModel Directory: /var/azureml-app/azureml-models/AutoML459e811c038/1\nWorker Count: 1\nWorker Timeout (seconds): 300\nServer Port: 31311\nApplication Insights Enabled: true\nApplication Insights Key: AppInsights key provided\n\n\nServer Routes\n---------------\nLiveness Probe: GET   127.0.0.1:31311/\nScore:          POST  127.0.0.1:31311/score\n\nStarting gunicorn 20.1.0\nListening at: http://0.0.0.0:31311 (79)\nUsing worker: sync\nBooting worker with pid: 135\nInitializing logger\n2022-08-12 08:44:54,778 | root | INFO | Starting up app insights client\nlogging socket was found. logging is available.\nlogging socket was found. logging is available.\n2022-08-12 08:44:54,779 | root | INFO | Starting up request id generator\n2022-08-12 08:44:54,780 | root | INFO | Starting up app insight hooks\n2022-08-12 08:44:54,780 | root | INFO | Invoking user's init function\n2022-08-12 08:45:03,443 | azureml.core | WARNING | Failure while loading azureml_run_type_providers. Failed to load entrypoint automl = azureml.train.automl.run:AutoMLRun._from_run_dto with exception (azure-identity 1.10.0 (/azureml-envs/azureml_9a0a3018d5bd283ce8b2a7a42f59a7d1/lib/python3.7/site-packages), Requirement.parse('azure-identity==1.7.0'), {'azureml-dataprep'}).\nFailure while loading azureml_run_type_providers. Failed to load entrypoint automl = azureml.train.automl.run:AutoMLRun._from_run_dto with exception (azure-identity 1.10.0 (/azureml-envs/azureml_9a0a3018d5bd283ce8b2a7a42f59a7d1/lib/python3.7/site-packages), Requirement.parse('azure-identity==1.7.0'), {'azureml-dataprep'}).\n2022-08-12 08:45:05,495 | root | INFO | Users's init has completed successfully\n2022-08-12 08:45:05,499 | root | INFO | Skipping middleware: dbg_model_info as it's not enabled.\n2022-08-12 08:45:05,500 | root | INFO | Skipping middleware: dbg_resource_usage as it's not enabled.\nGenerating swagger file: /tmp/tmp52ag06sy\n2022-08-12 08:45:05,510 | root | INFO | Scoring timeout is found from os.environ: 60000 ms\n2022-08-12 08:45:32,464 | root | INFO | 200\n127.0.0.1 - - [12/Aug/2022:08:45:32 +0000] \"GET /swagger.json HTTP/1.0\" 200 2962 \"-\" \"Go-http-client/1.1\"\n2022-08-12 08:46:32,539 | root | INFO | 200\n127.0.0.1 - - [12/Aug/2022:08:46:32 +0000] \"GET /swagger.json HTTP/1.0\" 200 2962 \"-\" \"Go-http-client/1.1\"\n\n"
        }
      ],
      "execution_count": 20,
      "metadata": {
        "gather": {
          "logged": 1660294378790
        },
        "jupyter": {
          "outputs_hidden": false,
          "source_hidden": false
        },
        "nteract": {
          "transient": {
            "deleting": false
          }
        }
      }
    },
    {
      "cell_type": "code",
      "source": [
        "service.delete()"
      ],
      "outputs": [],
      "execution_count": 21,
      "metadata": {
        "gather": {
          "logged": 1660294394798
        }
      }
    },
    {
      "cell_type": "markdown",
      "source": [
        "**Submission Checklist**\n",
        "- I have registered the model.\n",
        "- I have deployed the model with the best accuracy as a webservice.\n",
        "- I have tested the webservice by sending a request to the model endpoint.\n",
        "- I have deleted the webservice and shutdown all the computes that I have used.\n",
        "- I have taken a screenshot showing the model endpoint as active.\n",
        "- The project includes a file containing the environment details.\n"
      ],
      "metadata": {}
    },
    {
      "cell_type": "markdown",
      "source": [],
      "metadata": {}
    }
  ],
  "metadata": {
    "kernel_info": {
      "name": "python3"
    },
    "kernelspec": {
      "name": "python3",
      "language": "python",
      "display_name": "Python 3 (ipykernel)"
    },
    "language_info": {
      "name": "python",
      "version": "3.8.5",
      "mimetype": "text/x-python",
      "codemirror_mode": {
        "name": "ipython",
        "version": 3
      },
      "pygments_lexer": "ipython3",
      "nbconvert_exporter": "python",
      "file_extension": ".py"
    },
    "microsoft": {
      "host": {
        "AzureML": {
          "notebookHasBeenCompleted": true
        }
      }
    },
    "nteract": {
      "version": "nteract-front-end@1.0.0"
    }
  },
  "nbformat": 4,
  "nbformat_minor": 2
}